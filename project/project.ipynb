{
 "cells": [
  {
   "cell_type": "markdown",
   "metadata": {},
   "source": [
    "<h1>Project Description</h1><br>\n",
    "The purpose of this project is to:\n",
    "<ul>\n",
    "<li>See the popularity of Trump's tweets across countries</li>\n",
    "<li>Perform a sentiment analysis of recent tweets by Trump across countries</li>\n",
    "<li>See if similar reactions occur if his tweets are talking about the same topic</li>\n",
    "</ul>"
   ]
  },
  {
   "cell_type": "markdown",
   "metadata": {},
   "source": [
    "<h1>Data Collection</h1>\n",
    "\n",
    "<h2>Trump tweets data</h2>\n",
    "\n",
    "We utilised the several datasets available at https://github.com/bpb27/trump_tweet_data_archive which happens to automatically updata Trump's tweets every hour. All of the datasets are saved in json format and the data contained in them is the result of calls to the Twitter API. There are two varients, <b>master</b> which contains all of the original information from the API call and <b>condensed</b> which contains a lot less but essential information. After looking through some of the master and condensed datasets, we decided that the condensed datasets were sufficient as they contained the specfic fields we required (such as ...?) and the entries in master were unnecessarily large for our purpose (too much information that we would not use). <br>\n",
    "\n",
    "We're using all of the condensed datasets from 2009 to 2017 because the tweet data isn't that time consuming to process and having as much data as possible will be beneficial when clustering the messages in the tweets. Since the 2017 datatset is continiously being updated, we are only using it up to a certain date (--/--/2017). All of the data in total is around 10 MB so it is really simple to handle and there is no need to rely on additional computing resources<br>\n",
    "\n",
    "Below, we import all the necessary libraries we need for extracting and combining the data. We iterate over each json file and turn them into a pandas DataFrame and store them in the list <b>data</b>. We do this so that later on we can simply combine them into one single dataframe."
   ]
  },
  {
   "cell_type": "code",
   "execution_count": 1,
   "metadata": {
    "collapsed": true
   },
   "outputs": [],
   "source": [
    "import pandas as pd\n",
    "import json\n",
    "import numpy as np\n",
    "import matplotlib.pyplot as plt"
   ]
  },
  {
   "cell_type": "code",
   "execution_count": 2,
   "metadata": {
    "collapsed": true
   },
   "outputs": [],
   "source": [
    "#Create empty list to store all of our data\n",
    "data=[]\n",
    "\n",
    "#Add data from 2009 to 2017, 2017 data obtained 28/11/2017\n",
    "data.append(pd.DataFrame(json.load(open(\"data/condensed_2009.json\"))))\n",
    "for i in range(10,18):\n",
    "    fileName=\"data/condensed_20\"+str(i)+\".json\"\n",
    "    data.append(pd.DataFrame(json.load(open(fileName))))"
   ]
  },
  {
   "cell_type": "markdown",
   "metadata": {},
   "source": [
    "Next, we combine all of our seperate datasets into one pandas dataframe. We also set the id of the dataframe to <b>id_str</b> since we already know that each of the ids are unique. we also have to convert the <b>created_at</b> attribute into a Date object so that the dataframe is able to properly sort tweets by date (if it was still a string then it would sort incorrectly as it would put tweets starting on a Friday first."
   ]
  },
  {
   "cell_type": "code",
   "execution_count": 4,
   "metadata": {
    "collapsed": true
   },
   "outputs": [],
   "source": [
    "#Combine all of the individual datasets together\n",
    "df = pd.concat(data)\n",
    "\n",
    "#Set the index\n",
    "df = df.set_index(\"id_str\")\n",
    "\n",
    "#Convert to Date\n",
    "df[\"created_at\"]=pd.to_datetime(df[\"created_at\"])"
   ]
  },
  {
   "cell_type": "code",
   "execution_count": 17,
   "metadata": {},
   "outputs": [
    {
     "data": {
      "text/html": [
       "<div>\n",
       "<style>\n",
       "    .dataframe thead tr:only-child th {\n",
       "        text-align: right;\n",
       "    }\n",
       "\n",
       "    .dataframe thead th {\n",
       "        text-align: left;\n",
       "    }\n",
       "\n",
       "    .dataframe tbody tr th {\n",
       "        vertical-align: top;\n",
       "    }\n",
       "</style>\n",
       "<table border=\"1\" class=\"dataframe\">\n",
       "  <thead>\n",
       "    <tr style=\"text-align: right;\">\n",
       "      <th></th>\n",
       "      <th>created_at</th>\n",
       "      <th>favorite_count</th>\n",
       "      <th>in_reply_to_user_id_str</th>\n",
       "      <th>is_retweet</th>\n",
       "      <th>retweet_count</th>\n",
       "      <th>source</th>\n",
       "      <th>text</th>\n",
       "    </tr>\n",
       "    <tr>\n",
       "      <th>id_str</th>\n",
       "      <th></th>\n",
       "      <th></th>\n",
       "      <th></th>\n",
       "      <th></th>\n",
       "      <th></th>\n",
       "      <th></th>\n",
       "      <th></th>\n",
       "    </tr>\n",
       "  </thead>\n",
       "  <tbody>\n",
       "    <tr>\n",
       "      <th>1698308935</th>\n",
       "      <td>2009-05-04 18:54:25</td>\n",
       "      <td>202</td>\n",
       "      <td>None</td>\n",
       "      <td>False</td>\n",
       "      <td>253</td>\n",
       "      <td>Twitter Web Client</td>\n",
       "      <td>Be sure to tune in and watch Donald Trump on L...</td>\n",
       "    </tr>\n",
       "    <tr>\n",
       "      <th>1701461182</th>\n",
       "      <td>2009-05-05 01:00:10</td>\n",
       "      <td>3</td>\n",
       "      <td>None</td>\n",
       "      <td>False</td>\n",
       "      <td>2</td>\n",
       "      <td>Twitter Web Client</td>\n",
       "      <td>Donald Trump will be appearing on The View tom...</td>\n",
       "    </tr>\n",
       "    <tr>\n",
       "      <th>1737479987</th>\n",
       "      <td>2009-05-08 13:38:08</td>\n",
       "      <td>2</td>\n",
       "      <td>None</td>\n",
       "      <td>False</td>\n",
       "      <td>3</td>\n",
       "      <td>Twitter Web Client</td>\n",
       "      <td>Donald Trump reads Top Ten Financial Tips on L...</td>\n",
       "    </tr>\n",
       "    <tr>\n",
       "      <th>1741160716</th>\n",
       "      <td>2009-05-08 20:40:15</td>\n",
       "      <td>27</td>\n",
       "      <td>None</td>\n",
       "      <td>False</td>\n",
       "      <td>8</td>\n",
       "      <td>Twitter Web Client</td>\n",
       "      <td>New Blog Post: Celebrity Apprentice Finale and...</td>\n",
       "    </tr>\n",
       "    <tr>\n",
       "      <th>1773561338</th>\n",
       "      <td>2009-05-12 14:07:28</td>\n",
       "      <td>1950</td>\n",
       "      <td>None</td>\n",
       "      <td>False</td>\n",
       "      <td>1421</td>\n",
       "      <td>Twitter Web Client</td>\n",
       "      <td>\"My persona will never be that of a wallflower...</td>\n",
       "    </tr>\n",
       "  </tbody>\n",
       "</table>\n",
       "</div>"
      ],
      "text/plain": [
       "                    created_at  favorite_count in_reply_to_user_id_str  \\\n",
       "id_str                                                                   \n",
       "1698308935 2009-05-04 18:54:25             202                    None   \n",
       "1701461182 2009-05-05 01:00:10               3                    None   \n",
       "1737479987 2009-05-08 13:38:08               2                    None   \n",
       "1741160716 2009-05-08 20:40:15              27                    None   \n",
       "1773561338 2009-05-12 14:07:28            1950                    None   \n",
       "\n",
       "            is_retweet  retweet_count              source  \\\n",
       "id_str                                                      \n",
       "1698308935       False            253  Twitter Web Client   \n",
       "1701461182       False              2  Twitter Web Client   \n",
       "1737479987       False              3  Twitter Web Client   \n",
       "1741160716       False              8  Twitter Web Client   \n",
       "1773561338       False           1421  Twitter Web Client   \n",
       "\n",
       "                                                         text  \n",
       "id_str                                                         \n",
       "1698308935  Be sure to tune in and watch Donald Trump on L...  \n",
       "1701461182  Donald Trump will be appearing on The View tom...  \n",
       "1737479987  Donald Trump reads Top Ten Financial Tips on L...  \n",
       "1741160716  New Blog Post: Celebrity Apprentice Finale and...  \n",
       "1773561338  \"My persona will never be that of a wallflower...  "
      ]
     },
     "execution_count": 17,
     "metadata": {},
     "output_type": "execute_result"
    }
   ],
   "source": [
    "df.sort_values(\"created_at\",inplace=True)\n",
    "df.head()"
   ]
  },
  {
   "cell_type": "markdown",
   "metadata": {},
   "source": [
    "<h2>Reply tweets data</h2>\n",
    "\n",
    "In order to do a sentiment analysis, we need to create a dataframe containing replies to Trump's tweets. To do this, we use the library Twarc which simplifies the API call process. Note that due to a limitation in the Twitter API, we are only able to get replies to tweets that are at max a week old. To use Twarc, we will authenticate it with keys and access tokens, then we will iterate over all tweets that are at most a week old. We will only look at replies to a few interesting tweets such as the attack in Egypt (https://twitter.com/realDonaldTrump/status/934131805409697792)"
   ]
  },
  {
   "cell_type": "code",
   "execution_count": 3,
   "metadata": {
    "collapsed": true
   },
   "outputs": [],
   "source": [
    "from twarc import Twarc"
   ]
  },
  {
   "cell_type": "code",
   "execution_count": 4,
   "metadata": {
    "collapsed": true
   },
   "outputs": [],
   "source": [
    "consumer_key=\"zjwAsouRHgMzrMJxpWNxJtJYJ\"\n",
    "consumer_secret=\"uu2j3Do5fm266BPY2OiCajnIbUvWEiccgmfiNRZ9tGIfso1leN\"\n",
    "access_token=\"2758505181-7z1gXy1DgJDeGh1UqWwqiPeupQKmbapYPAeZ9QE\"\n",
    "access_token_secret=\"GjcjOwMzMwpjfFDW4an2qd1jwykYiYw0L5lb702PNHtYL\"\n",
    "t = Twarc(consumer_key, consumer_secret, access_token, access_token_secret)"
   ]
  },
  {
   "cell_type": "code",
   "execution_count": null,
   "metadata": {
    "collapsed": true
   },
   "outputs": [],
   "source": []
  },
  {
   "cell_type": "code",
   "execution_count": null,
   "metadata": {
    "collapsed": true
   },
   "outputs": [],
   "source": []
  },
  {
   "cell_type": "code",
   "execution_count": null,
   "metadata": {
    "collapsed": true
   },
   "outputs": [],
   "source": []
  },
  {
   "cell_type": "code",
   "execution_count": null,
   "metadata": {},
   "outputs": [
    {
     "name": "stderr",
     "output_type": "stream",
     "text": [
      "WARNING:root:rate limit exceeded: sleeping 643.6646568775177 secs\n"
     ]
    }
   ],
   "source": [
    "tweetId=\"934131805409697792\"\n",
    "tweetData=t.tweet(tweetId)\n",
    "\n",
    "maxReplies=1000\n",
    "replies=0\n",
    "\n",
    "for reply in t.replies(tweetData):   \n",
    "    text_file = open(\"replies.txt\", \"a\")\n",
    "    replyText=json.dumps(reply)\n",
    "    text_file.write(\"\\n\"+replyText+\"\\n\")\n",
    "    text_file.close() \n",
    "    if(replies>maxReplies):\n",
    "        break\n",
    "    replies+=1"
   ]
  },
  {
   "cell_type": "markdown",
   "metadata": {},
   "source": [
    "Now, we will iterate over all of Trump's tweets in the dataframe and for those that are less than a week old, we will use Twarc to get 10 replies to that tweet. To speed up the search process, we sort the dataframe in descending order so that the most recent tweets appear first. We stop iterating once we find a tweet that is more than 7 days old."
   ]
  },
  {
   "cell_type": "code",
   "execution_count": 16,
   "metadata": {
    "collapsed": true
   },
   "outputs": [],
   "source": [
    "'''import datetime\n",
    "\n",
    "today = datetime.date.today()\n",
    "margin = datetime.timedelta(days = 7)\n",
    "\n",
    "#Sort so that recent tweets are first\n",
    "dfRecent=df.copy()\n",
    "dfRecent.sort_values(\"created_at\",ascending=False,inplace=True)\n",
    "\n",
    "for i in range(len(df)):\n",
    "    tweet=dfRecent.iloc[i]\n",
    "    tweetId=dfRecent.index[i]\n",
    "    \n",
    "    tweetDate=tweet[\"created_at\"]\n",
    "    tweetDateTime=datetime.date(tweetDate.year,tweetDate.month,tweetDate.day)\n",
    "    isRecent=today - margin <= tweetDateTime    \n",
    "    if(not isRecent):\n",
    "        break\n",
    "\n",
    "    tweetData=t.tweet(tweetId)\n",
    "    \n",
    "    maxReplies=10\n",
    "    replies=0\n",
    "    \n",
    "    text_file = open(\"replies.txt\", \"a\")\n",
    "    \n",
    "    for reply in t.replies(tweetData):   \n",
    "        text_file.write(reply)\n",
    "        if(replies>maxReplies):\n",
    "            break\n",
    "        replies+=1\n",
    "        \n",
    "    text_file.close() \n",
    "'''"
   ]
  },
  {
   "cell_type": "code",
   "execution_count": 21,
   "metadata": {
    "collapsed": true
   },
   "outputs": [],
   "source": [
    "#dfRecent[\"text\"]"
   ]
  },
  {
   "cell_type": "markdown",
   "metadata": {},
   "source": [
    "<h1>Analyzing the data</h1><br>\n",
    "\n",
    "<h2>Attributes in the condensed Trump data</h2>\n",
    "\n",
    "What does the data look like ? In each json file, there is an array where each element represents\n",
    "a seperate tweet. In each array element, the following information can be found:<br>\n",
    "\n",
    "<ul>\n",
    "<li><b>created_at:</b> (string) the date the tweet was posted<br></li>\n",
    "<li><b>favourite_count:</b> (integer) represents the number of individual users that liked this post<br></li>\n",
    "<li><b>id_str:</b> (string) a unique string id for this tweet provided by the API<br></li>\n",
    "<li><b>in_reply_to_user_id_str:</b> (string) the string id of a tweet that this tweet is a reply to<br></li>\n",
    "<li><b>is_retweet:</b> (boolean) True if this tweet is a retweet of another tweet <br></li>\n",
    "<li><b>retweet_count:</b> (integer) an integer representing the amount of times this tweet was retweeted<br></li>\n",
    "<li><b>source:</b> (string/categorical) the type of device this tweet was posted from (for example a desktop or phone)<br></li>\n",
    "<li><b>text:</b> (string) the actual text from this tweet<br></li>\n",
    "</ul>\n"
   ]
  },
  {
   "cell_type": "markdown",
   "metadata": {},
   "source": [
    "To see all of the possible values of <b>source</b>, we simply use the following line:"
   ]
  },
  {
   "cell_type": "code",
   "execution_count": 128,
   "metadata": {},
   "outputs": [
    {
     "data": {
      "text/plain": [
       "array(['Twitter Web Client', 'TweetDeck', 'TwitLonger Beta', 'Facebook',\n",
       "       'Twitter for iPhone', 'Mobile Web (M5)', 'Twitter for Android',\n",
       "       'Instagram', 'Twitlonger', 'Vine - Make a Scene',\n",
       "       'Twitter for Websites', 'Twitter for BlackBerry',\n",
       "       'Neatly For BlackBerry 10', 'Periscope', 'Twitter QandA',\n",
       "       'Twitter Mirror for iPad', 'Twitter Ads', 'Twitter for iPad',\n",
       "       'Media Studio'], dtype=object)"
      ]
     },
     "execution_count": 128,
     "metadata": {},
     "output_type": "execute_result"
    }
   ],
   "source": [
    "df[\"source\"].unique()"
   ]
  },
  {
   "cell_type": "markdown",
   "metadata": {},
   "source": [
    "<b>favourite_count</b> and <b>retweet_count</b> are both positive integers"
   ]
  },
  {
   "cell_type": "markdown",
   "metadata": {},
   "source": [
    "Below is an example of what 1 entry may look like"
   ]
  },
  {
   "cell_type": "code",
   "execution_count": 78,
   "metadata": {},
   "outputs": [
    {
     "data": {
      "text/plain": [
       "created_at                                               2009-05-04 18:54:25\n",
       "favorite_count                                                           202\n",
       "in_reply_to_user_id_str                                                 None\n",
       "is_retweet                                                             False\n",
       "retweet_count                                                            253\n",
       "source                                                    Twitter Web Client\n",
       "text                       Be sure to tune in and watch Donald Trump on L...\n",
       "Name: 1698308935, dtype: object"
      ]
     },
     "execution_count": 78,
     "metadata": {},
     "output_type": "execute_result"
    }
   ],
   "source": [
    "df.iloc[0]"
   ]
  },
  {
   "cell_type": "markdown",
   "metadata": {},
   "source": [
    "One important thing to be noted about twitter for those who are unfamiliar, a retweet is essentially where you take someone else's tweet and post that to your twitter feed where as a reply is a tweet that is directly aimed at an existing tweet. \n",
    "\n",
    "What we can see from the dataset above is that not all of the information we need is there. For example to do a proper sentiment analysis of people reacting to Trump, we need to look at the replies of these people. For that we need an external library such as ... ??? Also, we need to see what country those replies originated from. This can be done using the twitter API since the API calls contain more extensive information such as geolocation of the tweet's origin. \n",
    "\n",
    "If we take a look at the tweets themselves, we see that there is certain symbols and text that we can remove as they don't contribute to our clustering of topics. For example, a lot of tweets contain external http links. Also, twitter happens to encode the & symbol as the string &amp so these need to be converted. \n"
   ]
  },
  {
   "cell_type": "markdown",
   "metadata": {},
   "source": [
    "<h2>Computing statistical information</h2>\n",
    "\n",
    "Using the describe function below, we can see that there are 30192 tweets in our total dataset. Only two of the features can have these values computed because the rest are strings or booleans. "
   ]
  },
  {
   "cell_type": "code",
   "execution_count": 119,
   "metadata": {},
   "outputs": [
    {
     "data": {
      "text/html": [
       "<div>\n",
       "<style>\n",
       "    .dataframe thead tr:only-child th {\n",
       "        text-align: right;\n",
       "    }\n",
       "\n",
       "    .dataframe thead th {\n",
       "        text-align: left;\n",
       "    }\n",
       "\n",
       "    .dataframe tbody tr th {\n",
       "        vertical-align: top;\n",
       "    }\n",
       "</style>\n",
       "<table border=\"1\" class=\"dataframe\">\n",
       "  <thead>\n",
       "    <tr style=\"text-align: right;\">\n",
       "      <th></th>\n",
       "      <th>favorite_count</th>\n",
       "      <th>retweet_count</th>\n",
       "    </tr>\n",
       "  </thead>\n",
       "  <tbody>\n",
       "    <tr>\n",
       "      <th>count</th>\n",
       "      <td>30192.000000</td>\n",
       "      <td>30192.000000</td>\n",
       "    </tr>\n",
       "    <tr>\n",
       "      <th>mean</th>\n",
       "      <td>3385.386228</td>\n",
       "      <td>1363.948198</td>\n",
       "    </tr>\n",
       "    <tr>\n",
       "      <th>std</th>\n",
       "      <td>12319.745232</td>\n",
       "      <td>4813.511737</td>\n",
       "    </tr>\n",
       "    <tr>\n",
       "      <th>min</th>\n",
       "      <td>0.000000</td>\n",
       "      <td>0.000000</td>\n",
       "    </tr>\n",
       "    <tr>\n",
       "      <th>25%</th>\n",
       "      <td>19.000000</td>\n",
       "      <td>15.000000</td>\n",
       "    </tr>\n",
       "    <tr>\n",
       "      <th>50%</th>\n",
       "      <td>58.000000</td>\n",
       "      <td>74.000000</td>\n",
       "    </tr>\n",
       "    <tr>\n",
       "      <th>75%</th>\n",
       "      <td>773.750000</td>\n",
       "      <td>684.250000</td>\n",
       "    </tr>\n",
       "    <tr>\n",
       "      <th>max</th>\n",
       "      <td>633253.000000</td>\n",
       "      <td>344806.000000</td>\n",
       "    </tr>\n",
       "  </tbody>\n",
       "</table>\n",
       "</div>"
      ],
      "text/plain": [
       "       favorite_count  retweet_count\n",
       "count    30192.000000   30192.000000\n",
       "mean      3385.386228    1363.948198\n",
       "std      12319.745232    4813.511737\n",
       "min          0.000000       0.000000\n",
       "25%         19.000000      15.000000\n",
       "50%         58.000000      74.000000\n",
       "75%        773.750000     684.250000\n",
       "max     633253.000000  344806.000000"
      ]
     },
     "execution_count": 119,
     "metadata": {},
     "output_type": "execute_result"
    }
   ],
   "source": [
    "df.describe()"
   ]
  },
  {
   "cell_type": "code",
   "execution_count": 123,
   "metadata": {},
   "outputs": [
    {
     "data": {
      "image/png": "[encoded data removed]",
      "text/plain": [
       "<matplotlib.figure.Figure at 0x247da833c50>"
      ]
     },
     "metadata": {},
     "output_type": "display_data"
    },
    {
     "data": {
      "image/png": "[encoded data removed]",
      "text/plain": [
       "<matplotlib.figure.Figure at 0x247d5834eb8>"
      ]
     },
     "metadata": {},
     "output_type": "display_data"
    }
   ],
   "source": [
    "plt.plot(list(df[\"favorite_count\"]))\n",
    "plt.show()\n",
    "plt.plot(list(df[\"retweet_count\"]))\n",
    "plt.show()"
   ]
  },
  {
   "cell_type": "markdown",
   "metadata": {},
   "source": [
    "<h2>Checking for missing values</h2>\n",
    "\n",
    "We will now check to see if there are potentially any values missing at all. Note that we don't consider a value of None in <b>in_reply_to_user_id_str</b> to be a missing value as it's acceptable for a tweet to not reply to another. We make a copy of our original dataframe, drop the in_reply_to_user_id_str (because pandas think's that the value None is a null value in this case) and then do a query to return all entries with some form of missing value. As we can see, we get no entries in this case so all of the values are present."
   ]
  },
  {
   "cell_type": "code",
   "execution_count": 79,
   "metadata": {},
   "outputs": [
    {
     "data": {
      "text/html": [
       "<div>\n",
       "<style>\n",
       "    .dataframe thead tr:only-child th {\n",
       "        text-align: right;\n",
       "    }\n",
       "\n",
       "    .dataframe thead th {\n",
       "        text-align: left;\n",
       "    }\n",
       "\n",
       "    .dataframe tbody tr th {\n",
       "        vertical-align: top;\n",
       "    }\n",
       "</style>\n",
       "<table border=\"1\" class=\"dataframe\">\n",
       "  <thead>\n",
       "    <tr style=\"text-align: right;\">\n",
       "      <th></th>\n",
       "      <th>created_at</th>\n",
       "      <th>favorite_count</th>\n",
       "      <th>is_retweet</th>\n",
       "      <th>retweet_count</th>\n",
       "      <th>source</th>\n",
       "      <th>text</th>\n",
       "    </tr>\n",
       "    <tr>\n",
       "      <th>id_str</th>\n",
       "      <th></th>\n",
       "      <th></th>\n",
       "      <th></th>\n",
       "      <th></th>\n",
       "      <th></th>\n",
       "      <th></th>\n",
       "    </tr>\n",
       "  </thead>\n",
       "  <tbody>\n",
       "  </tbody>\n",
       "</table>\n",
       "</div>"
      ],
      "text/plain": [
       "Empty DataFrame\n",
       "Columns: [created_at, favorite_count, is_retweet, retweet_count, source, text]\n",
       "Index: []"
      ]
     },
     "execution_count": 79,
     "metadata": {},
     "output_type": "execute_result"
    }
   ],
   "source": [
    "dfNull=df.copy()\n",
    "dfNull=dfNull.drop(\"in_reply_to_user_id_str\",axis=1)\n",
    "dfNull[dfNull.isnull().any(axis=1)]"
   ]
  },
  {
   "cell_type": "markdown",
   "metadata": {},
   "source": [
    "<h2>Correlations between features</h2>\n",
    "\n",
    "Next we want to analyze the correlations between the different fields. It doesn't make sense to look at correlations between string fields and the rest as the strings can take on a large range of values that aren't repeated often. However we can convert the categorical strings into integers as they occur frequently. We create a copy of the dataframe and then create a dictionary to have a mapping from a <b>source</b> value to an integer. Then we alter all of the rows in this datafram to have these integer values."
   ]
  },
  {
   "cell_type": "code",
   "execution_count": 99,
   "metadata": {
    "collapsed": true
   },
   "outputs": [],
   "source": [
    "dfCorr=df.copy()\n",
    "\n",
    "keys=dfCorr[\"source\"].unique()\n",
    "values=list(range(len(keys)))\n",
    "dictionary = dict(zip(keys, values))\n",
    "\n",
    "for i in range(len(dfCorr)):    \n",
    "    s=dfCorr.iloc[i][\"source\"]\n",
    "    dfCorr.iloc[i, dfCorr.columns.get_loc('source')] = int(dictionary.get(s))\n",
    "    \n",
    "dfCorr[\"source\"] = dfCorr[\"source\"].astype('int64')"
   ]
  },
  {
   "cell_type": "code",
   "execution_count": 109,
   "metadata": {},
   "outputs": [
    {
     "data": {
      "text/plain": [
       "created_at                 datetime64[ns]\n",
       "favorite_count                      int64\n",
       "in_reply_to_user_id_str            object\n",
       "is_retweet                           bool\n",
       "retweet_count                       int64\n",
       "source                              int64\n",
       "text                               object\n",
       "dtype: object"
      ]
     },
     "execution_count": 109,
     "metadata": {},
     "output_type": "execute_result"
    }
   ],
   "source": [
    "dfCorr.dtypes"
   ]
  },
  {
   "cell_type": "markdown",
   "metadata": {},
   "source": [
    "Below is a correlation matrix between all of the integer values as well as "
   ]
  },
  {
   "cell_type": "code",
   "execution_count": 115,
   "metadata": {},
   "outputs": [
    {
     "data": {
      "text/html": [
       "<div>\n",
       "<style>\n",
       "    .dataframe thead tr:only-child th {\n",
       "        text-align: right;\n",
       "    }\n",
       "\n",
       "    .dataframe thead th {\n",
       "        text-align: left;\n",
       "    }\n",
       "\n",
       "    .dataframe tbody tr th {\n",
       "        vertical-align: top;\n",
       "    }\n",
       "</style>\n",
       "<table border=\"1\" class=\"dataframe\">\n",
       "  <thead>\n",
       "    <tr style=\"text-align: right;\">\n",
       "      <th></th>\n",
       "      <th>favorite_count</th>\n",
       "      <th>is_retweet</th>\n",
       "      <th>retweet_count</th>\n",
       "      <th>source</th>\n",
       "    </tr>\n",
       "  </thead>\n",
       "  <tbody>\n",
       "    <tr>\n",
       "      <th>favorite_count</th>\n",
       "      <td>1.000000</td>\n",
       "      <td>-0.021752</td>\n",
       "      <td>0.916265</td>\n",
       "      <td>0.134390</td>\n",
       "    </tr>\n",
       "    <tr>\n",
       "      <th>is_retweet</th>\n",
       "      <td>-0.021752</td>\n",
       "      <td>1.000000</td>\n",
       "      <td>0.084379</td>\n",
       "      <td>-0.002959</td>\n",
       "    </tr>\n",
       "    <tr>\n",
       "      <th>retweet_count</th>\n",
       "      <td>0.916265</td>\n",
       "      <td>0.084379</td>\n",
       "      <td>1.000000</td>\n",
       "      <td>0.100975</td>\n",
       "    </tr>\n",
       "    <tr>\n",
       "      <th>source</th>\n",
       "      <td>0.134390</td>\n",
       "      <td>-0.002959</td>\n",
       "      <td>0.100975</td>\n",
       "      <td>1.000000</td>\n",
       "    </tr>\n",
       "  </tbody>\n",
       "</table>\n",
       "</div>"
      ],
      "text/plain": [
       "                favorite_count  is_retweet  retweet_count    source\n",
       "favorite_count        1.000000   -0.021752       0.916265  0.134390\n",
       "is_retweet           -0.021752    1.000000       0.084379 -0.002959\n",
       "retweet_count         0.916265    0.084379       1.000000  0.100975\n",
       "source                0.134390   -0.002959       0.100975  1.000000"
      ]
     },
     "execution_count": 115,
     "metadata": {},
     "output_type": "execute_result"
    }
   ],
   "source": [
    "corrMatr=dfCorr.corr(method='pearson', min_periods=1)\n",
    "corrMatr"
   ]
  },
  {
   "cell_type": "code",
   "execution_count": 114,
   "metadata": {},
   "outputs": [
    {
     "data": {
      "image/png": "[encoded data removed]",
      "text/plain": [
       "<matplotlib.figure.Figure at 0x247d971d320>"
      ]
     },
     "metadata": {},
     "output_type": "display_data"
    }
   ],
   "source": [
    "plt.matshow(corrMatr)\n",
    "plt.show()"
   ]
  },
  {
   "cell_type": "markdown",
   "metadata": {},
   "source": [
    "To interpret the matrix, yellow is for 100% correlation (when a variable correlates to itself), the more darker colours represent less correlation and the green one show that there is a relatively high correlation (>90%). What we see is that for Trump's tweets, the <b>favorite_count</b> and <b>retweet_count</b> are highly correlated. The correlations between the other variables are quite low (from -0.021752 to 0.134390)"
   ]
  },
  {
   "cell_type": "markdown",
   "metadata": {},
   "source": [
    "<h1>Roadmap to Milestone 3</h1>\n",
    "\n",
    "This section contains all the tasks that we intend to complete for the 3rd milestone.\n",
    "\n",
    "<h3>Classification of Trump's tweets by topic</h3>\n",
    "<h3>Classify users' reaction to a topic by sentiment and country.</h3>\n",
    "<h3>Plot a world map for each topic</h3>\n",
    "\n",
    "\n",
    "<h3>Plan for presentation</h3>"
   ]
  },
  {
   "cell_type": "code",
   "execution_count": null,
   "metadata": {
    "collapsed": true
   },
   "outputs": [],
   "source": []
  },
  {
   "cell_type": "code",
   "execution_count": 2,
   "metadata": {},
   "outputs": [
    {
     "ename": "NameError",
     "evalue": "name 't' is not defined",
     "output_type": "error",
     "traceback": [
      "\u001b[1;31m---------------------------------------------------------------------------\u001b[0m",
      "\u001b[1;31mNameError\u001b[0m                                 Traceback (most recent call last)",
      "\u001b[1;32m<ipython-input-2-d3fd58e466ae>\u001b[0m in \u001b[0;36m<module>\u001b[1;34m()\u001b[0m\n\u001b[1;32m----> 1\u001b[1;33m \u001b[0mtweet\u001b[0m \u001b[1;33m=\u001b[0m \u001b[0mlist\u001b[0m\u001b[1;33m(\u001b[0m\u001b[0mt\u001b[0m\u001b[1;33m.\u001b[0m\u001b[0mhydrate\u001b[0m\u001b[1;33m(\u001b[0m\u001b[1;33m[\u001b[0m\u001b[1;34m'789486128189444096'\u001b[0m\u001b[1;33m]\u001b[0m\u001b[1;33m)\u001b[0m\u001b[1;33m)\u001b[0m\u001b[1;33m[\u001b[0m\u001b[1;36m0\u001b[0m\u001b[1;33m]\u001b[0m\u001b[1;33m\u001b[0m\u001b[0m\n\u001b[0m\u001b[0;32m      2\u001b[0m \u001b[1;31m#789486128189444096\u001b[0m\u001b[1;33m\u001b[0m\u001b[1;33m\u001b[0m\u001b[0m\n\u001b[0;32m      3\u001b[0m \u001b[1;33m\u001b[0m\u001b[0m\n\u001b[0;32m      4\u001b[0m \u001b[1;31m#dump(summarize(tweet, extra_fields=['in_reply_to_status_id_str', 'in_reply_to_user_id']), colorize_fields=['in_reply_to_status_id', 'in_reply_to_status_id_str', 'in_reply_to_screen_name', 'in_reply_to_user_id', 'in_reply_to_user_id_str'], summarize_tweet=False)\u001b[0m\u001b[1;33m\u001b[0m\u001b[1;33m\u001b[0m\u001b[0m\n",
      "\u001b[1;31mNameError\u001b[0m: name 't' is not defined"
     ]
    }
   ],
   "source": [
    "tweet = list(t.hydrate(['789486128189444096']))[0]\n",
    "#789486128189444096\n",
    "tweet = list(t.hydrate(['743520583518920704']))[0]\n",
    "print(tweet['retweet_count'])\n",
    "retweets = t.replies('743520583518920704')\n",
    "print (len(list(retweets)))\n",
    "#dump(summarize(tweet, extra_fields=['in_reply_to_status_id_str', 'in_reply_to_user_id']), colorize_fields=['in_reply_to_status_id', 'in_reply_to_status_id_str', 'in_reply_to_screen_name', 'in_reply_to_user_id', 'in_reply_to_user_id_str'], summarize_tweet=False)"
   ]
  },
  {
   "cell_type": "code",
   "execution_count": 1,
   "metadata": {},
   "outputs": [
    {
     "ename": "NameError",
     "evalue": "name 't' is not defined",
     "output_type": "error",
     "traceback": [
      "\u001b[1;31m---------------------------------------------------------------------------\u001b[0m",
      "\u001b[1;31mNameError\u001b[0m                                 Traceback (most recent call last)",
      "\u001b[1;32m<ipython-input-1-361a50017447>\u001b[0m in \u001b[0;36m<module>\u001b[1;34m()\u001b[0m\n\u001b[1;32m----> 1\u001b[1;33m \u001b[0mtweet\u001b[0m \u001b[1;33m=\u001b[0m \u001b[0mlist\u001b[0m\u001b[1;33m(\u001b[0m\u001b[0mt\u001b[0m\u001b[1;33m.\u001b[0m\u001b[0mhydrate\u001b[0m\u001b[1;33m(\u001b[0m\u001b[1;33m[\u001b[0m\u001b[1;34m\"934131805409697792\"\u001b[0m\u001b[1;33m]\u001b[0m\u001b[1;33m)\u001b[0m\u001b[1;33m)\u001b[0m\u001b[1;33m[\u001b[0m\u001b[1;36m0\u001b[0m\u001b[1;33m]\u001b[0m\u001b[1;33m\u001b[0m\u001b[0m\n\u001b[0m\u001b[0;32m      2\u001b[0m \u001b[1;33m\u001b[0m\u001b[0m\n\u001b[0;32m      3\u001b[0m \u001b[1;31m#dump(summarize(tweet, extra_fields=['in_reply_to_status_id_str', 'in_reply_to_user_id']), colorize_fields=['in_reply_to_status_id', 'in_reply_to_status_id_str', 'in_reply_to_screen_name', 'in_reply_to_user_id', 'in_reply_to_user_id_str'], summarize_tweet=False)\u001b[0m\u001b[1;33m\u001b[0m\u001b[1;33m\u001b[0m\u001b[0m\n",
      "\u001b[1;31mNameError\u001b[0m: name 't' is not defined"
     ]
    }
   ],
   "source": [
    "tweet = list(t.hydrate([\"934131805409697792\"]))[0]\n",
    "\n",
    "#dump(summarize(tweet, extra_fields=['in_reply_to_status_id_str', 'in_reply_to_user_id']), colorize_fields=['in_reply_to_status_id', 'in_reply_to_status_id_str', 'in_reply_to_screen_name', 'in_reply_to_user_id', 'in_reply_to_user_id_str'], summarize_tweet=False)"
   ]
  }
 ],
 "metadata": {
  "kernelspec": {
   "display_name": "Python 3",
   "language": "python",
   "name": "python3"
  },
  "language_info": {
   "codemirror_mode": {
    "name": "ipython",
    "version": 3
   },
   "file_extension": ".py",
   "mimetype": "text/x-python",
   "name": "python",
   "nbconvert_exporter": "python",
   "pygments_lexer": "ipython3",
   "version": "3.6.1"
  }
 },
 "nbformat": 4,
 "nbformat_minor": 2
}
