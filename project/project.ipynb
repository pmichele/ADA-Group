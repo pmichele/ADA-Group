{
 "cells": [
  {
   "cell_type": "markdown",
   "metadata": {},
   "source": [
    "<h1>Project Description</h1><br>\n",
    "The purpose of this project is to:\n",
    "<ul>\n",
    "<li>See the popularity of Trump's tweets across countries</li>\n",
    "<li>Perform a sentiment analysis of recent tweets by Trump across countries</li>\n",
    "<li>See if similar reactions occur if his tweets are talking about the same topic</li>\n",
    "</ul>"
   ]
  },
  {
   "cell_type": "markdown",
   "metadata": {},
   "source": [
    "<h1>Data Collection</h1>\n",
    "\n",
    "<h2>Trump tweets data</h2>\n",
    "\n",
    "We utilised the several datasets available at https://github.com/bpb27/trump_tweet_data_archive which happens to automatically updata Trump's tweets every hour. All of the datasets are saved in json format and the data contained in them is the result of calls to the Twitter API. There are two varients, <b>master</b> which contains all of the original information from the API call and <b>condensed</b> which contains a lot less but essential information. After looking through some of the master and condensed datasets, we decided that the condensed datasets were sufficient as they contained the specfic fields we required and the entries in master were unnecessarily large for our purpose (too much information that we would not use). <br>\n",
    "\n",
    "We're using all of the condensed datasets from 2009 to 2017 because the tweet data isn't that time consuming to process and having as much data as possible will be beneficial when clustering the messages in the tweets. Since the 2017 datatset is continiously being updated, we are only using it up to a certain date. All of the data in total is around 10 MB so it is really simple to handle and there is no need to rely on additional computing resources<br>\n",
    "\n",
    "Below, we import all the necessary libraries we need for extracting and combining the data. We iterate over each json file and turn them into a pandas DataFrame and store them in the list <b>data</b>. We do this so that later on we can simply combine them into one single dataframe."
   ]
  },
  {
   "cell_type": "code",
   "execution_count": 19,
   "metadata": {
    "collapsed": true
   },
   "outputs": [],
   "source": [
    "import pandas as pd\n",
    "import json\n",
    "import numpy as np\n",
    "import matplotlib.pyplot as plt"
   ]
  },
  {
   "cell_type": "code",
   "execution_count": 20,
   "metadata": {
    "collapsed": true
   },
   "outputs": [],
   "source": [
    "#Create empty list to store all of our data\n",
    "data=[]\n",
    "\n",
    "#Add data from 2009 to 2017, 2017 data obtained 28/11/2017\n",
    "data.append(pd.DataFrame(json.load(open(\"data/condensed_2009.json\"))))\n",
    "for i in range(10,18):\n",
    "    fileName=\"data/condensed_20\"+str(i)+\".json\"\n",
    "    data.append(pd.DataFrame(json.load(open(fileName))))"
   ]
  },
  {
   "cell_type": "markdown",
   "metadata": {},
   "source": [
    "Next, we combine all of our seperate datasets into one pandas dataframe. We also set the id of the dataframe to <b>id_str</b> since we already know that each of the ids are unique. we also have to convert the <b>created_at</b> attribute into a Date object so that the dataframe is able to properly sort tweets by date (if it was still a string then it would sort incorrectly as it would put tweets starting on a Friday first."
   ]
  },
  {
   "cell_type": "code",
   "execution_count": 21,
   "metadata": {
    "collapsed": true
   },
   "outputs": [],
   "source": [
    "#Combine all of the individual datasets together\n",
    "df = pd.concat(data)\n",
    "\n",
    "#Set the index\n",
    "df = df.set_index(\"id_str\")\n",
    "\n",
    "#Convert to Date\n",
    "df[\"created_at\"]=pd.to_datetime(df[\"created_at\"])"
   ]
  },
  {
   "cell_type": "code",
   "execution_count": 22,
   "metadata": {},
   "outputs": [
    {
     "data": {
      "text/html": [
       "<div>\n",
       "<style>\n",
       "    .dataframe thead tr:only-child th {\n",
       "        text-align: right;\n",
       "    }\n",
       "\n",
       "    .dataframe thead th {\n",
       "        text-align: left;\n",
       "    }\n",
       "\n",
       "    .dataframe tbody tr th {\n",
       "        vertical-align: top;\n",
       "    }\n",
       "</style>\n",
       "<table border=\"1\" class=\"dataframe\">\n",
       "  <thead>\n",
       "    <tr style=\"text-align: right;\">\n",
       "      <th></th>\n",
       "      <th>created_at</th>\n",
       "      <th>favorite_count</th>\n",
       "      <th>in_reply_to_user_id_str</th>\n",
       "      <th>is_retweet</th>\n",
       "      <th>retweet_count</th>\n",
       "      <th>source</th>\n",
       "      <th>text</th>\n",
       "    </tr>\n",
       "    <tr>\n",
       "      <th>id_str</th>\n",
       "      <th></th>\n",
       "      <th></th>\n",
       "      <th></th>\n",
       "      <th></th>\n",
       "      <th></th>\n",
       "      <th></th>\n",
       "      <th></th>\n",
       "    </tr>\n",
       "  </thead>\n",
       "  <tbody>\n",
       "    <tr>\n",
       "      <th>1698308935</th>\n",
       "      <td>2009-05-04 18:54:25</td>\n",
       "      <td>202</td>\n",
       "      <td>None</td>\n",
       "      <td>False</td>\n",
       "      <td>253</td>\n",
       "      <td>Twitter Web Client</td>\n",
       "      <td>Be sure to tune in and watch Donald Trump on L...</td>\n",
       "    </tr>\n",
       "    <tr>\n",
       "      <th>1701461182</th>\n",
       "      <td>2009-05-05 01:00:10</td>\n",
       "      <td>3</td>\n",
       "      <td>None</td>\n",
       "      <td>False</td>\n",
       "      <td>2</td>\n",
       "      <td>Twitter Web Client</td>\n",
       "      <td>Donald Trump will be appearing on The View tom...</td>\n",
       "    </tr>\n",
       "    <tr>\n",
       "      <th>1737479987</th>\n",
       "      <td>2009-05-08 13:38:08</td>\n",
       "      <td>2</td>\n",
       "      <td>None</td>\n",
       "      <td>False</td>\n",
       "      <td>3</td>\n",
       "      <td>Twitter Web Client</td>\n",
       "      <td>Donald Trump reads Top Ten Financial Tips on L...</td>\n",
       "    </tr>\n",
       "    <tr>\n",
       "      <th>1741160716</th>\n",
       "      <td>2009-05-08 20:40:15</td>\n",
       "      <td>27</td>\n",
       "      <td>None</td>\n",
       "      <td>False</td>\n",
       "      <td>8</td>\n",
       "      <td>Twitter Web Client</td>\n",
       "      <td>New Blog Post: Celebrity Apprentice Finale and...</td>\n",
       "    </tr>\n",
       "    <tr>\n",
       "      <th>1773561338</th>\n",
       "      <td>2009-05-12 14:07:28</td>\n",
       "      <td>1950</td>\n",
       "      <td>None</td>\n",
       "      <td>False</td>\n",
       "      <td>1421</td>\n",
       "      <td>Twitter Web Client</td>\n",
       "      <td>\"My persona will never be that of a wallflower...</td>\n",
       "    </tr>\n",
       "  </tbody>\n",
       "</table>\n",
       "</div>"
      ],
      "text/plain": [
       "                    created_at  favorite_count in_reply_to_user_id_str  \\\n",
       "id_str                                                                   \n",
       "1698308935 2009-05-04 18:54:25             202                    None   \n",
       "1701461182 2009-05-05 01:00:10               3                    None   \n",
       "1737479987 2009-05-08 13:38:08               2                    None   \n",
       "1741160716 2009-05-08 20:40:15              27                    None   \n",
       "1773561338 2009-05-12 14:07:28            1950                    None   \n",
       "\n",
       "            is_retweet  retweet_count              source  \\\n",
       "id_str                                                      \n",
       "1698308935       False            253  Twitter Web Client   \n",
       "1701461182       False              2  Twitter Web Client   \n",
       "1737479987       False              3  Twitter Web Client   \n",
       "1741160716       False              8  Twitter Web Client   \n",
       "1773561338       False           1421  Twitter Web Client   \n",
       "\n",
       "                                                         text  \n",
       "id_str                                                         \n",
       "1698308935  Be sure to tune in and watch Donald Trump on L...  \n",
       "1701461182  Donald Trump will be appearing on The View tom...  \n",
       "1737479987  Donald Trump reads Top Ten Financial Tips on L...  \n",
       "1741160716  New Blog Post: Celebrity Apprentice Finale and...  \n",
       "1773561338  \"My persona will never be that of a wallflower...  "
      ]
     },
     "execution_count": 22,
     "metadata": {},
     "output_type": "execute_result"
    }
   ],
   "source": [
    "df.sort_values(\"created_at\",inplace=True)\n",
    "df.head()"
   ]
  },
  {
   "cell_type": "markdown",
   "metadata": {},
   "source": [
    "<h2>Reply tweets data</h2>\n",
    "\n",
    "In order to do a sentiment analysis, we need to create a dataframe containing replies to Trump's tweets. To do this, we use the library Twarc which simplifies the API call process. Note that due to a limitation in the Twitter API, getting replies to a tweet is not a feature by default so you have to use a workaround. One thing that's commonly done is to use Twitter's search function, it would involve searching for all messages directed at Trump and then seeing which ones have a reply_id (the id of the tweet they are replying to) that is equal to a given Trump tweet id. The problem with this is that it is only able to look for replies to tweets that are max a week old. The second issue is that the amount of times that you can use the search function in the Twitter API is limited to a 100 queries an hour which is not ideal since it would take too long to get enough tweets to train our classifiers.\n",
    "\n",
    "Instead, we decided to do the following. We iterate over all of Trump's tweets, get the id of these tweets and then do a http request to the twitter page containing that tweet. Then we parse the page using BeautifulSoup and search for the attribute \"data-tweet-id\" in the HTML text. This attribute corresponds to an id of any tweet on that page which means that we can easily obtain the id of replies. Then, instead of using the search function in the Twitter API, we use a different method that can lookup tweet information given an id. This method is not limited to tweets that are more than 7 days old and has a higher rate limit. \n",
    "\n",
    "We are using the package Twarc and to use it we need authenticate it with keys and access tokens that can be obtained from the Twitter Dev website."
   ]
  },
  {
   "cell_type": "code",
   "execution_count": 23,
   "metadata": {
    "collapsed": true
   },
   "outputs": [],
   "source": [
    "from twarc import Twarc\n",
    "from bs4 import BeautifulSoup\n",
    "import requests\n",
    "import pandas as pd"
   ]
  },
  {
   "cell_type": "code",
   "execution_count": 26,
   "metadata": {},
   "outputs": [],
   "source": [
    "consumer_key=\"zjwAsouRHgMzrMJxpWNxJtJYJ\"\n",
    "consumer_secret=\"uu2j3Do5fm266BPY2OiCajnIbUvWEiccgmfiNRZ9tGIfso1leN\"\n",
    "access_token=\"2758505181-7z1gXy1DgJDeGh1UqWwqiPeupQKmbapYPAeZ9QE\"\n",
    "access_token_secret=\"GjcjOwMzMwpjfFDW4an2qd1jwykYiYw0L5lb702PNHtYL\"\n",
    "\n",
    "\n",
    "f = open(\"authKeys.txt\", \"r\")\n",
    "\n",
    "keys=f.read()[2:].split(\":\")\n",
    "\n",
    "\n",
    "t = Twarc(consumer_key, consumer_secret, access_token, access_token_secret)"
   ]
  },
  {
   "cell_type": "markdown",
   "metadata": {},
   "source": []
  },
  {
   "cell_type": "code",
   "execution_count": null,
   "metadata": {
    "scrolled": false
   },
   "outputs": [],
   "source": [
    "#A list of lists for creating the dataframe\n",
    "L=[]\n",
    "\n",
    "#Column names for our dataframe containing replies\n",
    "indexList=[\"reply_id\",\"trump_id\",\"created_at\",\"coordinates\",\"favorite_count\",\"retweet_count\",\"geo\",\n",
    "                              \"place\",\"full_text\",\"location\",\"time_zone\",\"utc_offset\"]\n",
    "\n",
    "for i in range(len(indexList)):\n",
    "    L.append([])\n",
    "\n",
    "#Create empty dataframe\n",
    "replyDf=pd.DataFrame(columns=indexList)\n",
    "\n",
    "#Sort trump dataframe to get recent first\n",
    "df.sort_values(\"created_at\",inplace=True,ascending=False)\n",
    "\n",
    "#Adds the information from the reply tweet into our list of lists L\n",
    "def CreateReplyEntry(trumpId,replyId,replyTweet):\n",
    "    L[0].append(replyId)\n",
    "    L[1].append(trumpId)\n",
    "    for i in range(len(indexList)):\n",
    "        if(i>1):\n",
    "            if(i>8):\n",
    "                L[i].append(replyTweet[\"user\"][indexList[i]])\n",
    "            else:\n",
    "                L[i].append(replyTweet[indexList[i]])\n",
    "\n",
    "#For every tweet in given range, finds several replies\n",
    "#to that tweet (not guaranteed to find all replies)\n",
    "#start and end are indexes in trump tweets dataframe\n",
    "def ScrapeReplies(start,end):\n",
    "    #Iterate over every tweet\n",
    "    for i in range(start,end): #len(df) \n",
    "        if(i%100==0):\n",
    "            print(\"Tweet: \"+str(i))\n",
    "        #Set a limit so it doesn't take forever\n",
    "       # if(i>10):\n",
    "        #    break\n",
    "\n",
    "        #Get trump tweet and id\n",
    "        tweet=df.iloc[i]\n",
    "        tweetId=df.index[i]\n",
    "\n",
    "        url=\"https://twitter.com/realDonaldTrump/status/\"+tweetId\n",
    "        r = requests.get(url)\n",
    "        soup = BeautifulSoup(r.text, 'html.parser')\n",
    "\n",
    "        #Finds all div tags and if it has the corresponding id, add that id to a list\n",
    "        soup.find_all(\"div\")\n",
    "        divs = soup.find_all(\"div\")\n",
    "        ids=[]\n",
    "        for d in divs:\n",
    "            if d.has_attr('data-tweet-id'):\n",
    "                ids.append(d[\"data-tweet-id\"])  \n",
    "\n",
    "        for i in ids:\n",
    "            if(i!=tweetId): #dont want trump's tweet, just replies\n",
    "                reply=t.tweet(i)\n",
    "                CreateReplyEntry(tweetId,i,reply)   \n",
    "\n",
    "\n",
    "    for i in range(len(indexList)):\n",
    "        replyDf[indexList[i]]=L[i]\n",
    "\n",
    "    #replyDf.to_csv(\"data/replies/replies_\"+str(start)+\"_\"+str(end)+\".csv\", sep='\\t')\n",
    "    replyDf.to_pickle(\"data/replies/replies_\"+str(start)+\"_\"+str(end)+\".pkl\")\n",
    "    print(\"replies for tweets \"+str(start)+\" to \"+str(end)+\" saved\")\n",
    "    \n",
    "ScrapeReplies(2001,2500)"
   ]
  },
  {
   "cell_type": "code",
   "execution_count": null,
   "metadata": {},
   "outputs": [],
   "source": [
    "#pd.read_pickle(\"data/replies/replies_801_2000.pkl\")"
   ]
  },
  {
   "cell_type": "code",
   "execution_count": null,
   "metadata": {},
   "outputs": [],
   "source": [
    "def MergePickleFiles(fileNames):\n",
    "    dataframes=[]\n",
    "    for i in fileNames:\n",
    "        dataframes.append(pd.read_pickle(i))\n",
    "    return pd.concat(dataframes)\n",
    "\n",
    "#replies=MergePickleFiles([\"data/replies/replies_0_800.pkl\",\"data/replies/replies_801_2000.pkl\"])\n",
    "#replies.to_pickle(\"data/replies/replies_0_2000.pkl\")\n",
    "\n",
    "#len(pd.read_pickle(\"data/replies/replies_0_2000.pkl\"))"
   ]
  },
  {
   "cell_type": "markdown",
   "metadata": {},
   "source": [
    "<h1>Analyzing the data</h1><br>\n",
    "\n",
    "<h2>Attributes in the condensed Trump data</h2>\n",
    "\n",
    "What does the data look like ? In each json file, there is an array where each element represents\n",
    "a seperate tweet. In each array element, the following information can be found:<br>\n",
    "\n",
    "<ul>\n",
    "<li><b>created_at:</b> (string) the date the tweet was posted<br></li>\n",
    "<li><b>favourite_count:</b> (integer) represents the number of individual users that liked this post<br></li>\n",
    "<li><b>id_str:</b> (string) a unique string id for this tweet provided by the API<br></li>\n",
    "<li><b>in_reply_to_user_id_str:</b> (string) the string id of a tweet that this tweet is a reply to<br></li>\n",
    "<li><b>is_retweet:</b> (boolean) True if this tweet is a retweet of another tweet <br></li>\n",
    "<li><b>retweet_count:</b> (integer) an integer representing the amount of times this tweet was retweeted<br></li>\n",
    "<li><b>source:</b> (string/categorical) the type of device this tweet was posted from (for example a desktop or phone)<br></li>\n",
    "<li><b>text:</b> (string) the actual text from this tweet<br></li>\n",
    "</ul>\n"
   ]
  },
  {
   "cell_type": "markdown",
   "metadata": {},
   "source": [
    "To see all of the possible values of <b>source</b>, we simply use the following line:"
   ]
  },
  {
   "cell_type": "code",
   "execution_count": 128,
   "metadata": {},
   "outputs": [
    {
     "data": {
      "text/plain": [
       "array(['Twitter Web Client', 'TweetDeck', 'TwitLonger Beta', 'Facebook',\n",
       "       'Twitter for iPhone', 'Mobile Web (M5)', 'Twitter for Android',\n",
       "       'Instagram', 'Twitlonger', 'Vine - Make a Scene',\n",
       "       'Twitter for Websites', 'Twitter for BlackBerry',\n",
       "       'Neatly For BlackBerry 10', 'Periscope', 'Twitter QandA',\n",
       "       'Twitter Mirror for iPad', 'Twitter Ads', 'Twitter for iPad',\n",
       "       'Media Studio'], dtype=object)"
      ]
     },
     "execution_count": 128,
     "metadata": {},
     "output_type": "execute_result"
    }
   ],
   "source": [
    "df[\"source\"].unique()"
   ]
  },
  {
   "cell_type": "markdown",
   "metadata": {},
   "source": [
    "<b>favourite_count</b> and <b>retweet_count</b> are both positive integers"
   ]
  },
  {
   "cell_type": "markdown",
   "metadata": {},
   "source": [
    "Below is an example of what 1 entry may look like"
   ]
  },
  {
   "cell_type": "code",
   "execution_count": 78,
   "metadata": {},
   "outputs": [
    {
     "data": {
      "text/plain": [
       "created_at                                               2009-05-04 18:54:25\n",
       "favorite_count                                                           202\n",
       "in_reply_to_user_id_str                                                 None\n",
       "is_retweet                                                             False\n",
       "retweet_count                                                            253\n",
       "source                                                    Twitter Web Client\n",
       "text                       Be sure to tune in and watch Donald Trump on L...\n",
       "Name: 1698308935, dtype: object"
      ]
     },
     "execution_count": 78,
     "metadata": {},
     "output_type": "execute_result"
    }
   ],
   "source": [
    "df.iloc[0]"
   ]
  },
  {
   "cell_type": "markdown",
   "metadata": {},
   "source": [
    "One important thing to be noted about twitter for those who are unfamiliar, a retweet is essentially where you take someone else's tweet and post that to your twitter feed where as a reply is a tweet that is directly aimed at an existing tweet. \n",
    "\n",
    "What we can see from the dataset above is that not all of the information we need is there. For example to do a proper sentiment analysis of people reacting to Trump, we need to look at the replies of these people. Also, we need to see what country those replies originated from. This can be done using the twitter API since the API calls contain more extensive information such as geolocation of the tweet's origin. \n",
    "\n",
    "If we take a look at the tweets themselves, we see that there are certain symbols and text that we can remove as they don't contribute to our clustering of topics. For example, a lot of tweets contain external http links. Also, twitter happens to encode the & symbol as the string &amp so these need to be converted. \n"
   ]
  },
  {
   "cell_type": "markdown",
   "metadata": {},
   "source": [
    "<h2>Computing statistical information</h2>\n",
    "\n",
    "Using the describe function below, we can see that there are 30192 tweets in our total dataset. Only two of the features can have these values computed because the rest are strings or booleans. "
   ]
  },
  {
   "cell_type": "code",
   "execution_count": 119,
   "metadata": {},
   "outputs": [
    {
     "data": {
      "text/html": [
       "<div>\n",
       "<style>\n",
       "    .dataframe thead tr:only-child th {\n",
       "        text-align: right;\n",
       "    }\n",
       "\n",
       "    .dataframe thead th {\n",
       "        text-align: left;\n",
       "    }\n",
       "\n",
       "    .dataframe tbody tr th {\n",
       "        vertical-align: top;\n",
       "    }\n",
       "</style>\n",
       "<table border=\"1\" class=\"dataframe\">\n",
       "  <thead>\n",
       "    <tr style=\"text-align: right;\">\n",
       "      <th></th>\n",
       "      <th>favorite_count</th>\n",
       "      <th>retweet_count</th>\n",
       "    </tr>\n",
       "  </thead>\n",
       "  <tbody>\n",
       "    <tr>\n",
       "      <th>count</th>\n",
       "      <td>30192.000000</td>\n",
       "      <td>30192.000000</td>\n",
       "    </tr>\n",
       "    <tr>\n",
       "      <th>mean</th>\n",
       "      <td>3385.386228</td>\n",
       "      <td>1363.948198</td>\n",
       "    </tr>\n",
       "    <tr>\n",
       "      <th>std</th>\n",
       "      <td>12319.745232</td>\n",
       "      <td>4813.511737</td>\n",
       "    </tr>\n",
       "    <tr>\n",
       "      <th>min</th>\n",
       "      <td>0.000000</td>\n",
       "      <td>0.000000</td>\n",
       "    </tr>\n",
       "    <tr>\n",
       "      <th>25%</th>\n",
       "      <td>19.000000</td>\n",
       "      <td>15.000000</td>\n",
       "    </tr>\n",
       "    <tr>\n",
       "      <th>50%</th>\n",
       "      <td>58.000000</td>\n",
       "      <td>74.000000</td>\n",
       "    </tr>\n",
       "    <tr>\n",
       "      <th>75%</th>\n",
       "      <td>773.750000</td>\n",
       "      <td>684.250000</td>\n",
       "    </tr>\n",
       "    <tr>\n",
       "      <th>max</th>\n",
       "      <td>633253.000000</td>\n",
       "      <td>344806.000000</td>\n",
       "    </tr>\n",
       "  </tbody>\n",
       "</table>\n",
       "</div>"
      ],
      "text/plain": [
       "       favorite_count  retweet_count\n",
       "count    30192.000000   30192.000000\n",
       "mean      3385.386228    1363.948198\n",
       "std      12319.745232    4813.511737\n",
       "min          0.000000       0.000000\n",
       "25%         19.000000      15.000000\n",
       "50%         58.000000      74.000000\n",
       "75%        773.750000     684.250000\n",
       "max     633253.000000  344806.000000"
      ]
     },
     "execution_count": 119,
     "metadata": {},
     "output_type": "execute_result"
    }
   ],
   "source": [
    "df.describe()"
   ]
  },
  {
   "cell_type": "code",
   "execution_count": 123,
   "metadata": {},
   "outputs": [
    {
     "data": {
      "image/png": "[encoded data removed]",
      "text/plain": [
       "<matplotlib.figure.Figure at 0x247da833c50>"
      ]
     },
     "metadata": {},
     "output_type": "display_data"
    },
    {
     "data": {
      "image/png": "[encoded data removed]",
      "text/plain": [
       "<matplotlib.figure.Figure at 0x247d5834eb8>"
      ]
     },
     "metadata": {},
     "output_type": "display_data"
    }
   ],
   "source": [
    "plt.plot(list(df[\"favorite_count\"]))\n",
    "plt.show()\n",
    "plt.plot(list(df[\"retweet_count\"]))\n",
    "plt.show()"
   ]
  },
  {
   "cell_type": "markdown",
   "metadata": {},
   "source": [
    "<h2>Checking for missing values</h2>\n",
    "\n",
    "We will now check to see if there are potentially any values missing at all. Note that we don't consider a value of None in <b>in_reply_to_user_id_str</b> to be a missing value as it's acceptable for a tweet to not reply to another. We make a copy of our original dataframe, drop the in_reply_to_user_id_str (because pandas replcae the value None with a null value in this case) and then do a query to return all entries with some form of missing value. As we can see, we get no entries in this case so all of the values are present."
   ]
  },
  {
   "cell_type": "code",
   "execution_count": 79,
   "metadata": {},
   "outputs": [
    {
     "data": {
      "text/html": [
       "<div>\n",
       "<style>\n",
       "    .dataframe thead tr:only-child th {\n",
       "        text-align: right;\n",
       "    }\n",
       "\n",
       "    .dataframe thead th {\n",
       "        text-align: left;\n",
       "    }\n",
       "\n",
       "    .dataframe tbody tr th {\n",
       "        vertical-align: top;\n",
       "    }\n",
       "</style>\n",
       "<table border=\"1\" class=\"dataframe\">\n",
       "  <thead>\n",
       "    <tr style=\"text-align: right;\">\n",
       "      <th></th>\n",
       "      <th>created_at</th>\n",
       "      <th>favorite_count</th>\n",
       "      <th>is_retweet</th>\n",
       "      <th>retweet_count</th>\n",
       "      <th>source</th>\n",
       "      <th>text</th>\n",
       "    </tr>\n",
       "    <tr>\n",
       "      <th>id_str</th>\n",
       "      <th></th>\n",
       "      <th></th>\n",
       "      <th></th>\n",
       "      <th></th>\n",
       "      <th></th>\n",
       "      <th></th>\n",
       "    </tr>\n",
       "  </thead>\n",
       "  <tbody>\n",
       "  </tbody>\n",
       "</table>\n",
       "</div>"
      ],
      "text/plain": [
       "Empty DataFrame\n",
       "Columns: [created_at, favorite_count, is_retweet, retweet_count, source, text]\n",
       "Index: []"
      ]
     },
     "execution_count": 79,
     "metadata": {},
     "output_type": "execute_result"
    }
   ],
   "source": [
    "dfNull=df.copy()\n",
    "dfNull=dfNull.drop(\"in_reply_to_user_id_str\",axis=1)\n",
    "dfNull[dfNull.isnull().any(axis=1)]"
   ]
  },
  {
   "cell_type": "markdown",
   "metadata": {},
   "source": [
    "<h2>Correlations between features</h2>\n",
    "\n",
    "Next we want to analyze the correlations between the different fields. It doesn't make sense to look at correlations between string fields and the rest as the strings can take on a large range of values that aren't repeated often. However we can convert the categorical strings into integers as they occur frequently. We create a copy of the dataframe and then create a dictionary to have a mapping from a <b>source</b> value to an integer. Then we alter all of the rows in this datafram to have these integer values."
   ]
  },
  {
   "cell_type": "code",
   "execution_count": 99,
   "metadata": {
    "collapsed": true
   },
   "outputs": [],
   "source": [
    "dfCorr=df.copy()\n",
    "\n",
    "keys=dfCorr[\"source\"].unique()\n",
    "values=list(range(len(keys)))\n",
    "dictionary = dict(zip(keys, values))\n",
    "\n",
    "for i in range(len(dfCorr)):    \n",
    "    s=dfCorr.iloc[i][\"source\"]\n",
    "    dfCorr.iloc[i, dfCorr.columns.get_loc('source')] = int(dictionary.get(s))\n",
    "    \n",
    "dfCorr[\"source\"] = dfCorr[\"source\"].astype('int64')"
   ]
  },
  {
   "cell_type": "code",
   "execution_count": 109,
   "metadata": {},
   "outputs": [
    {
     "data": {
      "text/plain": [
       "created_at                 datetime64[ns]\n",
       "favorite_count                      int64\n",
       "in_reply_to_user_id_str            object\n",
       "is_retweet                           bool\n",
       "retweet_count                       int64\n",
       "source                              int64\n",
       "text                               object\n",
       "dtype: object"
      ]
     },
     "execution_count": 109,
     "metadata": {},
     "output_type": "execute_result"
    }
   ],
   "source": [
    "dfCorr.dtypes"
   ]
  },
  {
   "cell_type": "markdown",
   "metadata": {},
   "source": [
    "Below is a correlation matrix between all of the integer values as well as "
   ]
  },
  {
   "cell_type": "code",
   "execution_count": 115,
   "metadata": {},
   "outputs": [
    {
     "data": {
      "text/html": [
       "<div>\n",
       "<style>\n",
       "    .dataframe thead tr:only-child th {\n",
       "        text-align: right;\n",
       "    }\n",
       "\n",
       "    .dataframe thead th {\n",
       "        text-align: left;\n",
       "    }\n",
       "\n",
       "    .dataframe tbody tr th {\n",
       "        vertical-align: top;\n",
       "    }\n",
       "</style>\n",
       "<table border=\"1\" class=\"dataframe\">\n",
       "  <thead>\n",
       "    <tr style=\"text-align: right;\">\n",
       "      <th></th>\n",
       "      <th>favorite_count</th>\n",
       "      <th>is_retweet</th>\n",
       "      <th>retweet_count</th>\n",
       "      <th>source</th>\n",
       "    </tr>\n",
       "  </thead>\n",
       "  <tbody>\n",
       "    <tr>\n",
       "      <th>favorite_count</th>\n",
       "      <td>1.000000</td>\n",
       "      <td>-0.021752</td>\n",
       "      <td>0.916265</td>\n",
       "      <td>0.134390</td>\n",
       "    </tr>\n",
       "    <tr>\n",
       "      <th>is_retweet</th>\n",
       "      <td>-0.021752</td>\n",
       "      <td>1.000000</td>\n",
       "      <td>0.084379</td>\n",
       "      <td>-0.002959</td>\n",
       "    </tr>\n",
       "    <tr>\n",
       "      <th>retweet_count</th>\n",
       "      <td>0.916265</td>\n",
       "      <td>0.084379</td>\n",
       "      <td>1.000000</td>\n",
       "      <td>0.100975</td>\n",
       "    </tr>\n",
       "    <tr>\n",
       "      <th>source</th>\n",
       "      <td>0.134390</td>\n",
       "      <td>-0.002959</td>\n",
       "      <td>0.100975</td>\n",
       "      <td>1.000000</td>\n",
       "    </tr>\n",
       "  </tbody>\n",
       "</table>\n",
       "</div>"
      ],
      "text/plain": [
       "                favorite_count  is_retweet  retweet_count    source\n",
       "favorite_count        1.000000   -0.021752       0.916265  0.134390\n",
       "is_retweet           -0.021752    1.000000       0.084379 -0.002959\n",
       "retweet_count         0.916265    0.084379       1.000000  0.100975\n",
       "source                0.134390   -0.002959       0.100975  1.000000"
      ]
     },
     "execution_count": 115,
     "metadata": {},
     "output_type": "execute_result"
    }
   ],
   "source": [
    "corrMatr=dfCorr.corr(method='pearson', min_periods=1)\n",
    "corrMatr"
   ]
  },
  {
   "cell_type": "code",
   "execution_count": 114,
   "metadata": {},
   "outputs": [
    {
     "data": {
      "image/png": "[encoded data removed]",
      "text/plain": [
       "<matplotlib.figure.Figure at 0x247d971d320>"
      ]
     },
     "metadata": {},
     "output_type": "display_data"
    }
   ],
   "source": [
    "plt.matshow(corrMatr)\n",
    "plt.show()"
   ]
  },
  {
   "cell_type": "markdown",
   "metadata": {},
   "source": [
    "To interpret the matrix, yellow is for 100% correlation (when a variable correlates to itself), the more darker colours represent less correlation and the green one show that there is a relatively high correlation (>90%). What we see is that for Trump's tweets, the <b>favorite_count</b> and <b>retweet_count</b> are highly correlated. The correlations between the other variables are quite low (from -0.021752 to 0.134390)"
   ]
  },
  {
   "cell_type": "markdown",
   "metadata": {},
   "source": [
    "<h1>Roadmap to Milestone 3</h1>\n",
    "\n",
    "This section contains all the tasks that we intend to complete for the 3rd milestone.\n",
    "\n",
    "\n",
    "<h3>Classify users' reaction to a topic by sentiment and country.</h3>\n",
    "<h3>Plot a world map for each topic</h3>\n",
    "\n",
    "\n",
    "<h3>Plan for presentation</h3>"
   ]
  },
  {
   "cell_type": "markdown",
   "metadata": {},
   "source": [
    "<h3>Classification of Trump's tweets by topic</h3>"
   ]
  },
  {
   "cell_type": "markdown",
   "metadata": {},
   "source": [
    "Clustering of tweets will be implemented via topic modeling, more specifically via Latent Dirichlet Allocation (in short LDA). In LDA the documents of a corpus are generated according to a mixture of (dirichlet) word distributions over a vocabulary of fixed size. Guiding intuition, such word distributions are named \"topics\". Each document is characterized by a per-document (dirichlet) topic distribution and a total number of words N. Each word of the document is generated by first sampling a topic assignment out of the per-document distribution and then by sampling a word out of the word distribution. The machine learning task is to backtrack this process to \"infer\" the latent topic distribution of the document. Given the model and the per-document distribution, a corpus can be fully characterized (up to words order, since documents are bag-of-words). This entails that if the number of topics K is s.t. K << D, where D is the length of the dictionary, then under LDA every document has a more succint representation."
   ]
  },
  {
   "cell_type": "code",
   "execution_count": null,
   "metadata": {
    "collapsed": true
   },
   "outputs": [],
   "source": [
    "import nltk\n",
    "nltk.download('punkt')"
   ]
  },
  {
   "cell_type": "code",
   "execution_count": null,
   "metadata": {
    "collapsed": true
   },
   "outputs": [],
   "source": [
    "from nltk.tokenize import RegexpTokenizer\n",
    "from nltk.stem.porter import PorterStemmer\n",
    "from stop_words import get_stop_words\n",
    "from gensim import corpora, models\n",
    "import matplotlib.pyplot as plt\n",
    "from sklearn.feature_extraction.text import TfidfVectorizer\n",
    "%pylab inline\n",
    "import re"
   ]
  },
  {
   "cell_type": "markdown",
   "metadata": {},
   "source": [
    "Pre-processing has been performed iteratively: at each step, the output of simple functions and tokenization was analyzed seeking for the most occurring incorrect tokens. After determining the cause of the incorrect tokenization, a rule was written to fix it. This process was repeated until, after a thorough inspection, most of the tokens were meaningful. Particular care was devoted to this phase since the performance of clustering algorithms generally depends on the underlying data. The pre-processing includes: shifting to lower case, stripping links, dates and time. Punctuation was ignored except for \".\" and \"'\" since many proper names include these symbols (single or multiple periods are still ignored however). Other accepted symbols are \"@\" and \"#\" at the begin of a word. Stopwords are stripped out. Finally, stemming was applied, even though we found out some cases of ambiguity and reduced readability. We decided to deploy stemming anyway since the various verb conjugations such as \"said\" and \"say\" were a far bigger issue than some small inconvenience. Moreover, readability was maintained by keeping track of both processed and unprocessed tweets."
   ]
  },
  {
   "cell_type": "code",
   "execution_count": null,
   "metadata": {
    "collapsed": true
   },
   "outputs": [],
   "source": [
    "# Process a single tweet\n",
    "def preProcess_procedure(tweet):\n",
    "    original = tweet\n",
    "    tweet = re.sub(r'([a-z]+)\\.([A-Z].+)', '\\1 \\2', tweet)\n",
    "    tweet = tweet.lower()\n",
    "    tweet = re.sub(r'https?:\\/\\/.*[\\r\\n]*', '', tweet)\n",
    "    tweet = re.sub(r'(\\d+[:\\/,\\.])+\\d+ *([ap]\\.?m\\.?)?', '', tweet)\n",
    "    tokenizer = RegexpTokenizer(r'[a-z_@#][a-z0-9_\\'\\.]+[a-z0-9_]')\n",
    "    tweet = tokenizer.tokenize(tweet)\n",
    "    stopwords = get_stop_words('en')\n",
    "    stopwords.append('amp')\n",
    "    p_stemmer = PorterStemmer()\n",
    "    tweet = [i for i in tweet if not i in stopwords]\n",
    "    tweet = [p_stemmer.stem(i) for i in tweet]\n",
    "    #print(original, \"=>\", tweet)\n",
    "    return tweet\n",
    "    \n",
    "# Pre-process a list of tweets\n",
    "def preProcess(tweets, ratio=0.8):\n",
    "    tweets.index = range(len(tweets))\n",
    "    indices = np.random.permutation(tweets.index)\n",
    "    train_len = int(len(tweets) * ratio)\n",
    "    train_indices = indices[:train_len]\n",
    "    test_indices = indices[train_len:]\n",
    "    orig_test = tweets[test_indices]\n",
    "    tweets = tweets.map(preProcess_procedure)\n",
    "    dictionary = corpora.Dictionary(tweets)\n",
    "    train = [dictionary.doc2bow(tweets[tweet]) for tweet in train_indices]\n",
    "    test = [dictionary.doc2bow(tweets[tweet]) for tweet in test_indices]\n",
    "    return train, test, orig_test, dictionary\n",
    "    \n",
    "train, ltest, orig_test, dictionary = preProcess(df['text'])"
   ]
  },
  {
   "cell_type": "markdown",
   "metadata": {},
   "source": [
    "Right after feature pre-processing, a crucial step in clustering is determining the number of clusters. We started with a non-small number of topics (k = 100) attempting to first overfit the model to the training set (but still keeping a reasonable amount of topics for manual inspection) and then to progressively reduce the number of topics to increase performance. The goodness of fit was measured by first splitting in training and testing samples, inferring a test tweet's most probable topic and then assigning the tweet to that topic (hard clustering). However, this method seemed to be slow since every model seemed to derive small topics of approximately the same size (10 ~ 80 tweets each, where the biggest topic was 4% of the whole dataset). While selecting the number of clusters just so that the dataset would be nicely partitioned in bigger chunks was tempting, we were not sure whether a small cluster could still have a great impact in clustering. To this aim, many of the 100 topics were inspected and we found out that some topics were fairly similar (for example all topics addressing Ted Cruz were divided in several topics). \n",
    "\n",
    "At this point, our aim became minimizing the \"uncertainty\" of the per-tweet topic distributions (i.e. by having higher maxima). In order to do so, recall that in LDA a test sample document of D features is reduced to a K-vector in the K-topic space. We had the idea of computing the silhouette function in this space to improve goodness of fit. We decided to implement that using centroids (the average point of each cluster) and euclidian distance. Another test that would be interesting to make is to use the total variation distance since every point in the topic space is a probability distribution over K topics. A completely different approach that was implemented was to set the topic assignment zi as the center of the cluster. The total variation distance between a tweet and all zi is then simply 1 - di, where di is the i-th component of the tweet K-vector. This approach was not thoroghly tested but it seemed to produce similar results. As you may note below, the maximum silhouette value was achieved for k = 2. This behavior is certainly suspicious. Nonetheless, the resulting clusters seems to be of some use."
   ]
  },
  {
   "cell_type": "code",
   "execution_count": null,
   "metadata": {
    "collapsed": true
   },
   "outputs": [],
   "source": [
    "# Computing silhouette in a K-dimensional topic space, where each document is reduced to a K-vector. Note that documents are\n",
    "# hard assigned to the topic with the highest probability. The centroids are computed as the average point of the cluster.\n",
    "\n",
    "from collections import defaultdict\n",
    "\"\"\"\n",
    "def silhouette(lda, tweet):\n",
    "    kvector = [x[1] for x in sorted(lda[tweet], key=lambda tup: tup[1], reverse=True)]\n",
    "    if (len(kvector) < 2):\n",
    "        return 1\n",
    "    neigh_dist = 1 - kvector[1]\n",
    "    same_dist = 1 - kvector[0]\n",
    "    return (neigh_dist - same_dist) / neigh_dist\n",
    "\"\"\"\n",
    "\n",
    "def silhouette(other, same):\n",
    "    return (other - same) / max(other, same)\n",
    "\n",
    "# Given a model, infer and assign a topic to every tweet\n",
    "def buildHardClusters(lda, ltest):\n",
    "    docs = [lda[tweet] for tweet in ltest if len(tweet) > 0]\n",
    "    clusters = [max(doc, key=lambda tup: tup[1]) for doc in docs]\n",
    "    dfTest = pd.DataFrame(columns=['Topic', 'Document'])\n",
    "    dfTest['Topic'] = [c[0] for c in clusters]\n",
    "    dfTest['Document'] = docs\n",
    "    return dfTest\n",
    "\n",
    "# From a cluster of tweets, compute the average point\n",
    "def buildCentroid(cluster):\n",
    "    dic = defaultdict(float)\n",
    "    for doc in cluster['Document']:\n",
    "        for comp in doc:\n",
    "            dic[comp[0]] += comp[1]\n",
    "    return [(t, p / len(cluster)) for t, p in dic.items()]\n",
    "\n",
    "# Difference of two vectors. We had to implement this since\n",
    "# zero entries are not stored in the vectors to save space\n",
    "def diff(doc1, doc2):\n",
    "    d = defaultdict(float)\n",
    "    for comp in doc1:\n",
    "        d[comp[0]] = comp[1]\n",
    "    for comp in doc2:\n",
    "        d[comp[0]] -= comp[1]\n",
    "    tot = 0\n",
    "    for k, v in d.items():\n",
    "        tot += v**2\n",
    "    return np.sqrt(tot)\n",
    "    \n",
    "def compute_silhouette(tweet, centroids):\n",
    "    same_dist = diff(tweet['Document'], centroids[tweet['Topic']]) \n",
    "    # Find nearest neighbor\n",
    "    neigh_dist = 999\n",
    "    for i in range(len(centroids)):\n",
    "        if i == tweet['Topic']:\n",
    "            continue\n",
    "        dist = diff(tweet['Document'], centroids[i])\n",
    "        if dist < neigh_dist:\n",
    "            neigh_dist = dist\n",
    "    return silhouette(neigh_dist, same_dist)\n",
    "\n",
    "# Grid Search method to determine k by maximizing the silhouette function.\n",
    "def grid_search_k(train, ltest, dictionary, start_k=2, lim=100):\n",
    "    res = pd.Series(index=range(start_k, lim + 1))\n",
    "    for k in range(start_k, lim + 1):\n",
    "        alda = models.ldamodel.LdaModel(train, num_topics=k, id2word = dictionary, passes=20)\n",
    "        dfTest = buildHardClusters(alda, ltest)\n",
    "        centroids = dfTest.groupby('Topic').apply(buildCentroid)\n",
    "        # Compute Average Silhouette\n",
    "        tot = 0\n",
    "        part_sil = dfTest.apply(compute_silhouette, args=(centroids,), axis=1)\n",
    "        sil = sum(part_sil) / len(dfTest)\n",
    "        print(\"k =\", k, \",\", \"silhouette =\", sil)\n",
    "        res[k] = sil\n",
    "    return res\n",
    "\n",
    "gsk = grid_search_k(train, ltest, dictionary)"
   ]
  },
  {
   "cell_type": "raw",
   "metadata": {
    "collapsed": true
   },
   "source": [
    "# Output of previous cell\n",
    "k = 2 , silhouette = 0.7600314381266555\n",
    "k = 3 , silhouette = 0.6752275340791493\n",
    "k = 4 , silhouette = 0.6140042422538549\n",
    "k = 5 , silhouette = 0.5843056284001248\n",
    "k = 6 , silhouette = 0.5634937808802221\n",
    "k = 7 , silhouette = 0.5444461357828932\n",
    "k = 8 , silhouette = 0.5345121291019872\n",
    "k = 9 , silhouette = 0.5124009337536873\n",
    "k = 10 , silhouette = 0.5040697061853416\n",
    "k = 11 , silhouette = 0.49080282616663023\n",
    "k = 12 , silhouette = 0.4790508910985389\n",
    "k = 13 , silhouette = 0.4914963311174731\n",
    "k = 14 , silhouette = 0.458577477784802\n",
    "k = 15 , silhouette = 0.46437586037353934\n",
    "k = 16 , silhouette = 0.4657706101174737\n",
    "k = 17 , silhouette = 0.46563137263218274\n",
    "k = 18 , silhouette = 0.45814675040136654\n",
    "k = 19 , silhouette = 0.44681182325184804\n",
    "k = 20 , silhouette = 0.4404248632737023\n",
    "k = 21 , silhouette = 0.450479056001983\n",
    "k = 22 , silhouette = 0.43428431342093504\n",
    "k = 23 , silhouette = 0.4417843784799455\n",
    "k = 24 , silhouette = 0.43143907239833473\n",
    "k = 25 , silhouette = 0.4516537367356941\n",
    "k = 26 , silhouette = 0.4329791473329979\n",
    "k = 27 , silhouette = 0.4232088589462763\n",
    "k = 28 , silhouette = 0.42385696104066134\n",
    "k = 29 , silhouette = 0.4389556460149199\n",
    "k = 30 , silhouette = 0.41114286781053805\n",
    "k = 31 , silhouette = 0.4178586544421491\n",
    "k = 32 , silhouette = 0.42699089550760255\n",
    "k = 33 , silhouette = 0.42817235267779397\n",
    "k = 34 , silhouette = 0.4019865036449782\n",
    "k = 35 , silhouette = 0.4219532322367825\n",
    "k = 36 , silhouette = 0.4239512264186842\n",
    "k = 37 , silhouette = 0.41320304717442036\n",
    "k = 38 , silhouette = 0.40899663868518815\n",
    "k = 39 , silhouette = 0.4196022670687089\n",
    "k = 40 , silhouette = 0.4133526097045497\n",
    "k = 41 , silhouette = 0.4041296687698144\n",
    "k = 42 , silhouette = 0.39581897494439566\n",
    "k = 43 , silhouette = 0.41190368809835587\n",
    "k = 44 , silhouette = 0.403219261494485\n",
    "k = 45 , silhouette = 0.4089286365742654\n",
    "k = 46 , silhouette = 0.4101530433588281\n",
    "k = 47 , silhouette = 0.4043158558695186\n",
    "k = 48 , silhouette = 0.3783173863517066\n",
    "k = 49 , silhouette = 0.4163419644987627\n",
    "k = 50 , silhouette = 0.4002452419960091\n",
    "k = 51 , silhouette = 0.40872221149401494\n",
    "k = 52 , silhouette = 0.4078669034314252\n",
    "k = 53 , silhouette = 0.403135794407241\n",
    "k = 54 , silhouette = 0.399162946194608\n",
    "k = 55 , silhouette = 0.39601282052952436\n",
    "k = 56 , silhouette = 0.3851635102946601\n",
    "k = 57 , silhouette = 0.40398259675393\n",
    "k = 58 , silhouette = 0.39689044755223585\n",
    "k = 59 , silhouette = 0.3864906090049179\n",
    "k = 60 , silhouette = 0.40839095194404607\n",
    "k = 61 , silhouette = 0.4057389955374202\n",
    "k = 62 , silhouette = 0.40118669701774756"
   ]
  },
  {
   "cell_type": "code",
   "execution_count": null,
   "metadata": {
    "collapsed": true
   },
   "outputs": [],
   "source": [
    "lda = models.ldamodel.LdaModel(train, num_topics=2, id2word = dictionary, passes=50)  "
   ]
  },
  {
   "cell_type": "code",
   "execution_count": null,
   "metadata": {
    "collapsed": true
   },
   "outputs": [],
   "source": [
    "# Hard clustering: map each tweet to the topic with max probability\n",
    "clusters = [max(lda[tweet], key=lambda tup: tup[1]) for tweet in ltest if len(tweet) > 0]"
   ]
  },
  {
   "cell_type": "code",
   "execution_count": null,
   "metadata": {
    "collapsed": true
   },
   "outputs": [],
   "source": [
    "# Size of clusters\n",
    "w = [1 / len(clusters)] * len(clusters)\n",
    "pd.Series([c[0] for c in clusters]).hist(bins=100, weights=w)"
   ]
  },
  {
   "cell_type": "code",
   "execution_count": null,
   "metadata": {
    "collapsed": true
   },
   "outputs": [],
   "source": [
    "dfTest = pd.DataFrame(columns=['Max Topic', 'Text'])\n",
    "orig_test.index = range(len(orig_test))\n",
    "dfTest['Max Topic'] = [c[0] for c in clusters]\n",
    "dfTest['Text'] = [orig_test[i] for i in range(len(orig_test)) if len(ltest[i]) > 0]"
   ]
  },
  {
   "cell_type": "markdown",
   "metadata": {},
   "source": [
    "The two derived topics seems to have an interesting side-effect: the classifier acts as Trump's rant detector. It infers 1 when Trump attacks a controversial issue in his tweet, generally defending himself or belittling his opponents (Clinton, Obama, the Democrats, the FBI CEO...) in a manner that might resemble an angry rant, targeted to awaken people's anger. It is not unusual to read keywords such as \"FAKE NEWS\" or \"rigged system\". \n",
    "\n",
    "Examples: \n",
    "1. \"FAKE NEWS media knowingly doesn't tell the truth. A great danger to our country. The failing @nytimes has become a joke. Likewise @CNN. Sad!\"\n",
    "\n",
    "2. \"What is our country coming to when a judge can halt a Homeland Security travel ban and anyone, even with bad intentions, can come into U.S.?\"\n",
    "\n",
    "3. \"James Comey will be replaced by someone who will do a far better job, bringing back the spirit and prestige of the FBI.\"\n",
    "\n",
    "4. \"Karen Handle's opponent in #GA06 can't even vote in the district he wants to represent....\"\n",
    "\n",
    "5. \"Everybody is asking why the Justice Department (and FBI) isn't looking into all of the dishonesty going on with Crooked Hillary & the Dems.. \"\n",
    "\n",
    "In contrast, we observe a completely different pattern in the other cluster. Trump glorifies and thanks either his supporters, his government or even his family. He celebrates having met \"great people\" or festivities. In this cluster we observe a Trump that inspires people hope. Frequent keywords are \"honor\", \"hope\", \"pray\", \"God\", \"kind\", \"jobs\"...\n",
    "\n",
    "Examples: \n",
    "\n",
    "1. \"My warmest condolences and sympathies to the victims and families of the terrible Las Vegas shooting. God bless you\"\n",
    "\n",
    "2. \"Getting ready to celebrate the 4th of July with a big crowd at the White House. Happy 4th to everyone. Our country will grow and prosper! \"\n",
    "\n",
    "3. \"Today on #NationalAgDay, we honor our great American farmers & ranchers. Their hard work & dedication are ingrained…\"\n",
    "\n",
    "4. \"Thank you for such a wonderful and unforgettable visit, Prime Minister @Netanyahu and @PresidentRuvi.\"\n",
    "\n",
    "5. \"Nick Adams, \"Retaking America\"  \"Best things of this presidency aren't reported about. Convinced this will be perhaps best presidency ever.\" \"\n",
    "\n",
    "For more examples please look through files \"topic0.txt\" and \"topic1.txt\""
   ]
  },
  {
   "cell_type": "code",
   "execution_count": null,
   "metadata": {
    "collapsed": true
   },
   "outputs": [],
   "source": [
    "def testTopic(dfTest, i):\n",
    "    group = dfTest[dfTest['Max Topic'] == i]['Text']\n",
    "    group.apply(lambda x: print(x, \"\\n\"))\n",
    "    print(\"frequency:\", len(group) / len(dfTest) * 100, \"%\")\n",
    "\n",
    "# To check out the output of this cell consult \"Topic0.txt\"\n",
    "testTopic(dfTest, 0)"
   ]
  },
  {
   "cell_type": "code",
   "execution_count": null,
   "metadata": {
    "collapsed": true
   },
   "outputs": [],
   "source": [
    "# To check out the output of this cell consult \"Topic1.txt\"\n",
    "testTopic(dfTest, 1)"
   ]
  },
  {
   "cell_type": "code",
   "execution_count": null,
   "metadata": {
    "collapsed": true
   },
   "outputs": [],
   "source": [
    "lda.show_topics(num_words=100)"
   ]
  },
  {
   "cell_type": "raw",
   "metadata": {},
   "source": [
    "# Output of previous cell\n",
    "[(0,\n",
    "  '0.021*\"great\" + 0.016*\"thank\" + 0.014*\"today\" + 0.011*\"presid\" + 0.009*\"will\" + 0.008*\"meet\" + 0.008*\"honor\" + 0.007*\"nation\" + 0.007*\"state\" + 0.007*\"america\" + 0.006*\"day\" + 0.006*\"unit\" + 0.006*\"@realdonaldtrump\" + 0.005*\"trump\" + 0.005*\"peopl\" + 0.004*\"welcom\" + 0.004*\"american\" + 0.004*\"@whitehous\" + 0.004*\"happi\" + 0.004*\"order\" + 0.004*\"just\" + 0.004*\"first\" + 0.004*\"u.\" + 0.004*\"forward\" + 0.004*\"militari\" + 0.004*\"join\" + 0.004*\"new\" + 0.003*\"women\" + 0.003*\"look\" + 0.003*\"@potu\" + 0.003*\"live\" + 0.003*\"@flotu\" + 0.003*\"minist\" + 0.003*\"congratul\" + 0.003*\"wonder\" + 0.003*\"countri\" + 0.003*\"full\" + 0.003*\"prime\" + 0.003*\"famili\" + 0.003*\"#usa\" + 0.003*\"job\" + 0.003*\"texa\" + 0.003*\"morn\" + 0.003*\"secur\" + 0.003*\"white\" + 0.003*\"work\" + 0.003*\"help\" + 0.003*\"world\" + 0.002*\"melania\" + 0.002*\"men\" + 0.002*\"law\" + 0.002*\"watch\" + 0.002*\"protect\" + 0.002*\"attack\" + 0.002*\"court\" + 0.002*\"korea\" + 0.002*\"hous\" + 0.002*\"leader\" + 0.002*\"safe\" + 0.002*\"everyon\" + 0.002*\"announc\" + 0.002*\"secretari\" + 0.002*\"god\" + 0.002*\"terror\" + 0.002*\"beauti\" + 0.002*\"hero\" + 0.002*\"respond\" + 0.002*\"presidenti\" + 0.002*\"must\" + 0.002*\"host\" + 0.002*\"head\" + 0.002*\"@vp\" + 0.002*\"@scavino45\" + 0.002*\"much\" + 0.002*\"remark\" + 0.002*\"get\" + 0.002*\"gener\" + 0.002*\"execut\" + 0.002*\"donald\" + 0.002*\"support\" + 0.002*\"time\" + 0.002*\"bless\" + 0.002*\"readi\" + 0.002*\"leav\" + 0.002*\"mani\" + 0.002*\"togeth\" + 0.002*\"serv\" + 0.002*\"ban\" + 0.002*\"discuss\" + 0.002*\"brave\" + 0.002*\"prayer\" + 0.002*\"see\" + 0.002*\"offic\" + 0.002*\"wall\" + 0.002*\"rememb\" + 0.002*\"proud\" + 0.002*\"hurrican\" + 0.002*\"veteran\" + 0.002*\"right\" + 0.002*\"even\"'),\n",
    " (1,\n",
    "  '0.019*\"will\" + 0.012*\"great\" + 0.010*\"news\" + 0.009*\"fake\" + 0.008*\"big\" + 0.008*\"job\" + 0.007*\"tax\" + 0.007*\"now\" + 0.007*\"peopl\" + 0.006*\"get\" + 0.006*\"republican\" + 0.006*\"year\" + 0.006*\"media\" + 0.006*\"just\" + 0.006*\"democrat\" + 0.006*\"u.\" + 0.005*\"make\" + 0.005*\"countri\" + 0.005*\"senat\" + 0.005*\"elect\" + 0.005*\"vote\" + 0.005*\"time\" + 0.005*\"american\" + 0.005*\"work\" + 0.005*\"mani\" + 0.005*\"russia\" + 0.004*\"trump\" + 0.004*\"healthcar\" + 0.004*\"cut\" + 0.004*\"want\" + 0.004*\"obamacar\" + 0.004*\"dem\" + 0.004*\"@foxandfriend\" + 0.004*\"never\" + 0.004*\"one\" + 0.004*\"even\" + 0.004*\"deal\" + 0.004*\"can\" + 0.004*\"bad\" + 0.003*\"stori\" + 0.003*\"report\" + 0.003*\"back\" + 0.003*\"hard\" + 0.003*\"much\" + 0.003*\"america\" + 0.003*\"come\" + 0.003*\"good\" + 0.003*\"total\" + 0.003*\"win\" + 0.003*\"look\" + 0.003*\"made\" + 0.003*\"bill\" + 0.003*\"new\" + 0.003*\"like\" + 0.003*\"take\" + 0.003*\"obama\" + 0.003*\"fail\" + 0.003*\"sinc\" + 0.003*\"talk\" + 0.003*\"go\" + 0.003*\"must\" + 0.003*\"said\" + 0.003*\"hillari\" + 0.003*\"thing\" + 0.003*\"ever\" + 0.003*\"state\" + 0.003*\"hous\" + 0.003*\"china\" + 0.003*\"border\" + 0.002*\"north\" + 0.002*\"clinton\" + 0.002*\"way\" + 0.002*\"say\" + 0.002*\"@foxnew\" + 0.002*\"trade\" + 0.002*\"record\" + 0.002*\"high\" + 0.002*\"administr\" + 0.002*\"market\" + 0.002*\"korea\" + 0.002*\"realli\" + 0.002*\"better\" + 0.002*\"help\" + 0.002*\"stock\" + 0.002*\"happen\" + 0.002*\"last\" + 0.002*\"secur\" + 0.002*\"plan\" + 0.002*\"russian\" + 0.002*\"done\" + 0.002*\"interview\" + 0.002*\"nation\" + 0.002*\"rate\" + 0.002*\"repeal\" + 0.002*\"let\" + 0.002*\"replac\" + 0.002*\"see\" + 0.002*\"need\" + 0.002*\"chang\" + 0.002*\"massiv\"')]"
   ]
  },
  {
   "cell_type": "code",
   "execution_count": null,
   "metadata": {
    "collapsed": true
   },
   "outputs": [],
   "source": [
    "# Show Clustering in detail\n",
    "i = 0\n",
    "for tweet in ltest:\n",
    "    print(orig_test.iloc[i], \"\\n\")\n",
    "    print(sorted(lda[tweet], key=lambda tup: tup[1], reverse=True), \"\\n\")\n",
    "    i += 1"
   ]
  },
  {
   "cell_type": "code",
   "execution_count": null,
   "metadata": {
    "collapsed": true
   },
   "outputs": [],
   "source": [
    "#lda.save(fname=\"LDAModel2017\")"
   ]
  },
  {
   "cell_type": "code",
   "execution_count": null,
   "metadata": {
    "collapsed": true
   },
   "outputs": [],
   "source": [
    "#dfTest.to_csv(\"Test Sample_2017.csv\")"
   ]
  },
  {
   "cell_type": "code",
   "execution_count": null,
   "metadata": {
    "collapsed": true
   },
   "outputs": [],
   "source": []
  }
 ],
 "metadata": {
  "kernelspec": {
   "display_name": "Python 3",
   "language": "python",
   "name": "python3"
  },
  "language_info": {
   "codemirror_mode": {
    "name": "ipython",
    "version": 3
   },
   "file_extension": ".py",
   "mimetype": "text/x-python",
   "name": "python",
   "nbconvert_exporter": "python",
   "pygments_lexer": "ipython3",
   "version": "3.6.1"
  }
 },
 "nbformat": 4,
 "nbformat_minor": 2
}
