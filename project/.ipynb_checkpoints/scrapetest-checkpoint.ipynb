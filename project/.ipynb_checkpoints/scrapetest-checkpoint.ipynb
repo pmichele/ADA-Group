{
 "cells": [
  {
   "cell_type": "code",
   "execution_count": 7,
   "metadata": {},
   "outputs": [],
   "source": [
    "import requests\n",
    "import pandas as pd\n",
    "from bs4 import BeautifulSoup"
   ]
  },
  {
   "cell_type": "code",
   "execution_count": 8,
   "metadata": {
    "collapsed": true
   },
   "outputs": [],
   "source": [
    "url=\"https://twitter.com/realDonaldTrump/status/934131805409697792\"\n",
    "r = requests.get(url)"
   ]
  },
  {
   "cell_type": "code",
   "execution_count": 26,
   "metadata": {},
   "outputs": [],
   "source": [
    "soup = BeautifulSoup(r.text, 'html.parser')\n",
    "array=soup.text.split(\" \")\n",
    "\n",
    "for i in array:\n",
    "    if(\"data-tweet-id\" in i):\n",
    "        print(i)"
   ]
  },
  {
   "cell_type": "code",
   "execution_count": 17,
   "metadata": {},
   "outputs": [],
   "source": [
    "inputTag = soup.findAll(attrs={\"data-tweet-id\"})"
   ]
  },
  {
   "cell_type": "code",
   "execution_count": 32,
   "metadata": {
    "scrolled": true
   },
   "outputs": [
    {
     "name": "stdout",
     "output_type": "stream",
     "text": [
      "934131805409697792\n",
      "934132170804822016\n",
      "934132312383598594\n",
      "934133114774982657\n",
      "934134098767040512\n",
      "934156673471733765\n",
      "934133572495183872\n",
      "934133099134365696\n",
      "934132308050874369\n",
      "934132319488798720\n",
      "934132323016216576\n",
      "934133524260585473\n",
      "934133901651476480\n",
      "934155038469115904\n",
      "934132313281253376\n"
     ]
    }
   ],
   "source": [
    "soup.find_all(\"div\")\n",
    "divs = soup.find_all(\"div\")\n",
    "ids=[]\n",
    "for d in divs:\n",
    "    if d.has_attr('data-tweet-id'):\n",
    "        ids.append(d[\"data-tweet-id\"])  \n"
   ]
  },
  {
   "cell_type": "code",
   "execution_count": null,
   "metadata": {
    "collapsed": true
   },
   "outputs": [],
   "source": []
  }
 ],
 "metadata": {
  "kernelspec": {
   "display_name": "Python 3",
   "language": "python",
   "name": "python3"
  },
  "language_info": {
   "codemirror_mode": {
    "name": "ipython",
    "version": 3
   },
   "file_extension": ".py",
   "mimetype": "text/x-python",
   "name": "python",
   "nbconvert_exporter": "python",
   "pygments_lexer": "ipython3",
   "version": "3.6.1"
  }
 },
 "nbformat": 4,
 "nbformat_minor": 2
}
