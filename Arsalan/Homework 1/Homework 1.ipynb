{
 "cells": [
  {
   "cell_type": "markdown",
   "metadata": {},
   "source": [
    "# Table of Contents\n",
    " <p><div class=\"lev1\"><a href=\"#Task-1.-Compiling-Ebola-Data\"><span class=\"toc-item-num\">Task 1.&nbsp;&nbsp;</span>Compiling Ebola Data</a></div>\n",
    " <div class=\"lev1\"><a href=\"#Task-2.-RNA-Sequences\"><span class=\"toc-item-num\">Task 2.&nbsp;&nbsp;</span>RNA Sequences</a></div>\n",
    " <div class=\"lev1\"><a href=\"#Task-3.-Class-War-in-Titanic\"><span class=\"toc-item-num\">Task 3.&nbsp;&nbsp;</span>Class War in Titanic</a></div></p>"
   ]
  },
  {
   "cell_type": "code",
   "execution_count": 2,
   "metadata": {
    "collapsed": true
   },
   "outputs": [],
   "source": [
    "DATA_FOLDER = 'Data/' # Use the data folder provided in Tutorial 02 - Intro to Pandas."
   ]
  },
  {
   "cell_type": "markdown",
   "metadata": {},
   "source": [
    "## Task 1. Compiling Ebola Data\n",
    "\n",
    "The `DATA_FOLDER/ebola` folder contains summarized reports of Ebola cases from three countries (Guinea, Liberia and Sierra Leone) during the recent outbreak of the disease in West Africa. For each country, there are daily reports that contain various information about the outbreak in several cities in each country.\n",
    "\n",
    "Use pandas to import these data files into a single `Dataframe`.\n",
    "Using this `DataFrame`, calculate for *each country*, the *daily average per month* of *new cases* and *deaths*.\n",
    "Make sure you handle all the different expressions for *new cases* and *deaths* that are used in the reports."
   ]
  },
  {
   "cell_type": "code",
   "execution_count": 50,
   "metadata": {},
   "outputs": [
    {
     "name": "stdout",
     "output_type": "stream",
     "text": [
      "['population' 'new_noncase' 'new_suspected' 'new_probable' 'new_confirmed'\n",
      " 'cum_noncase' 'cum_suspected' 'cum_probable' 'cum_confirmed'\n",
      " 'death_suspected' 'death_probable' 'death_confirmed' 'cfr'\n",
      " 'etc_new_admission' 'etc_currently_admitted' 'etc_cum_admission'\n",
      " 'etc_new_deaths' 'etc_cum_deaths' 'etc_new_discharges'\n",
      " 'etc_cum_discharges' 'cum_contacts' 'cum_completed_contacts'\n",
      " 'contacts_followed' 'new_contacts' 'contacts_healthy' 'contacts_ill'\n",
      " 'contacts_not_seen' 'new_completed_contacts' 'percent_seen'\n",
      " 'total_lab_samples' 'repeat_samples' 'new_samples' 'new_positive'\n",
      " 'new_negative' 'pending' 'positive_corpse' 'negative_corpse']\n"
     ]
    }
   ],
   "source": [
    "import glob\n",
    "import datetime as dt\n",
    "import pandas as pd\n",
    "\n",
    "def readFiles(path,name):\n",
    "    df=pd.DataFrame()\n",
    "    allFiles=glob.glob(DATA_FOLDER+path)\n",
    "    for file in allFiles:\n",
    "        df=df.append(pd.read_csv(file))\n",
    "    df['Country']=name\n",
    "    return df\n",
    "\n",
    "\n",
    "def readAll():\n",
    "    df=pd.DataFrame()\n",
    "    df=df.append(readFiles('ebola/guinea_data/*','guinea'))\n",
    "    df=df.append(readFiles('ebola/liberia_data/*','liberia'))\n",
    "    df=df.append(readFiles('ebola/sl_data/*','sl'))\n",
    "    return df\n",
    "\n",
    "def mergeColumns(df):\n",
    "    df['Date']=df['Date'].fillna(df['date'])\n",
    "    df['Description']=df['Description'].fillna(df['Variable'])\n",
    "    df['Description']=df['Description'].fillna(df['variable'])\n",
    "    df['Totals']=df['Totals'].fillna(df['National'])\n",
    "    df['Police training School']=df['Police training School'].fillna(df['Police traning School'])\n",
    "    return df\n",
    "\n",
    "def dropColumns(df):\n",
    "    df=df.drop('date', axis=1)\n",
    "    df=df.drop('Variable', axis=1)\n",
    "    df=df.drop('variable', axis=1)\n",
    "    df=df.drop('National', axis=1)\n",
    "    df=df.drop('Police traning School',axis=1)\n",
    "    return df\n",
    "    \n",
    "    \n",
    "def stripDate(date):\n",
    "    if ('/' in date):\n",
    "        try :\n",
    "            return dt.datetime.strptime(date, \"%m/%d/%Y\").month\n",
    "        except ValueError:\n",
    "            return dt.datetime.strptime(date, \"%m/%d/%y\").month\n",
    "    return dt.datetime.strptime(date, \"%Y-%m-%d\").month\n",
    "\n",
    "def changeDate(df):\n",
    "    df['Date'] = df['Date'].map(stripDate)\n",
    "    return df\n",
    "    \n",
    "def preprocess(df):\n",
    "    df=mergeColumns(df)\n",
    "    df=dropColumns(df)\n",
    "    df=changeDate(df)\n",
    "    df=df.fillna(value=0)\n",
    "    return df\n",
    "\n",
    "def calc(dframe,descr,country):\n",
    "    subset=dframe[(dframe['Country']==country)&(dframe['Description']==descr)][['Totals','Date']]\n",
    "    subset = subset.astype(float)   \n",
    "    subsetMean = subset.groupby(['Date'])['Totals'].mean()\n",
    "    return subsetMean\n",
    "\n",
    "def calc2(dframe,descr1,descr2,country):\n",
    "    subset=dframe[(dframe['Country']==country)&((df['Description']==descr1)|(df['Description']==descr2))][['Totals','Date']]\n",
    "    subset = subset.astype(float)   \n",
    "    subsetMean = subset.groupby(['Date'])['Totals'].mean()\n",
    "    return subsetMean\n",
    "\n",
    "def printResults():\n",
    "    #Guinea\n",
    "    print(calc(df,'Total new cases registered so far','guinea'))\n",
    "    print('\\n')\n",
    "    print(calc2(df,'New deaths registered','New deaths registered today','guinea'))\n",
    "    print('\\n')\n",
    "    #Liberia\n",
    "    print(calc(df,'Newly Reported Cases in HCW','liberia'))\n",
    "    print('\\n')\n",
    "    print(calc2(df,'Newly reported deaths','Newly Reported deaths in HCW','liberia'))\n",
    "    print('\\n')\n",
    "    #SL\n",
    "    print(calc(df,'new_confirmed','sl'))\n",
    "    print('\\n')\n",
    "    print(calc(df,'etc_new_deaths','sl'))\n",
    "    \n",
    "\n",
    "'''\n",
    "Using this DataFrame, calculate for each country, \n",
    "the daily average per month of new cases and deaths. \n",
    "Make sure you handle all the different expressions for \n",
    "new cases and deaths that are used in the reports.\n",
    "\n",
    "calc mean over each month (8,9,10,...)\n",
    "'''\n",
    "\n",
    "df=readAll()\n",
    "df=preprocess(df)\n",
    "printResults()\n",
    "\n",
    "\n",
    "#how can average be 0 ????\n",
    "#print(df[df['Country']=='sl']['Description'].unique())\n"
   ]
  },
  {
   "cell_type": "markdown",
   "metadata": {},
   "source": [
    "## Task 2. RNA Sequences\n",
    "\n",
    "In the `DATA_FOLDER/microbiome` subdirectory, there are 9 spreadsheets of microbiome data that was acquired from high-throughput RNA sequencing procedures, along with a 10<sup>th</sup> file that describes the content of each. \n",
    "\n",
    "Use pandas to import the first 9 spreadsheets into a single `DataFrame`.\n",
    "Then, add the metadata information from the 10<sup>th</sup> spreadsheet as columns in the combined `DataFrame`.\n",
    "Make sure that the final `DataFrame` has a unique index and all the `NaN` values have been replaced by the tag `unknown`."
   ]
  },
  {
   "cell_type": "code",
   "execution_count": 161,
   "metadata": {
    "collapsed": true
   },
   "outputs": [],
   "source": [
    "# Write your answer here\n",
    "import glob\n",
    "import pandas as pd\n",
    "\n",
    "def readData(path):\n",
    "    df=pd.DataFrame()    \n",
    "    allFiles=glob.glob(DATA_FOLDER+path)\n",
    "    meta=readMeta()\n",
    "    i=0\n",
    "    for file in allFiles:\n",
    "         if(not file==\"Data/microbiome\\metadata.xls\"):    \n",
    "            thisFile=pd.read_excel(file,header=None)\n",
    "            thisFile['BARCODE']=meta['BARCODE'][i]\n",
    "            thisFile['GROUP']=meta['GROUP'][i]\n",
    "            thisFile['SAMPLE']=meta['SAMPLE'][i]\n",
    "            i=i+1\n",
    "            df = df.append(thisFile)\n",
    "    return df\n",
    "\n",
    "def readMeta():\n",
    "    return pd.read_excel(\"Data/microbiome\\metadata.xls\")\n",
    "\n",
    "def fillMissing(df):\n",
    "    return df.fillna(value=\"unknown\")\n",
    "    \n",
    "def readAll():\n",
    "    df=readData('microbiome/*')\n",
    "    return fillMissing(df) \n",
    "\n",
    "df=readAll()\n"
   ]
  },
  {
   "cell_type": "markdown",
   "metadata": {},
   "source": [
    "## Task 3. Class War in Titanic\n",
    "\n",
    "Use pandas to import the data file `Data/titanic.xls`. It contains data on all the passengers that travelled on the Titanic."
   ]
  },
  {
   "cell_type": "code",
   "execution_count": 173,
   "metadata": {},
   "outputs": [
    {
     "name": "stdout",
     "output_type": "stream",
     "text": [
      "Index(['pclass', 'survived', 'name', 'sex', 'age', 'sibsp', 'parch', 'ticket',\n",
      "       'fare', 'cabin', 'embarked', 'boat', 'body', 'home.dest'],\n",
      "      dtype='object')\n"
     ]
    }
   ],
   "source": [
    "from IPython.core.display import HTML\n",
    "import matplotlib.pyplot as plt\n",
    "HTML(filename=DATA_FOLDER+'/titanic.html')\n",
    "d=pd.read_excel(DATA_FOLDER+'/titanic.xls',header=0)\n",
    "print(d.columns)\n",
    "\n",
    "#print(d['sex'])"
   ]
  },
  {
   "cell_type": "code",
   "execution_count": null,
   "metadata": {
    "collapsed": true
   },
   "outputs": [],
   "source": []
  },
  {
   "cell_type": "markdown",
   "metadata": {},
   "source": [
    "For each of the following questions state clearly your assumptions and discuss your findings:\n",
    "1. Describe the *type* and the *value range* of each attribute. Indicate and transform the attributes that can be `Categorical`. \n",
    "2. Plot histograms for the *travel class*, *embarkation port*, *sex* and *age* attributes. For the latter one, use *discrete decade intervals*. \n",
    "3. Calculate the proportion of passengers by *cabin floor*. Present your results in a *pie chart*.\n",
    "4. For each *travel class*, calculate the proportion of the passengers that survived. Present your results in *pie charts*.\n",
    "5. Calculate the proportion of the passengers that survived by *travel class* and *sex*. Present your results in *a single histogram*.\n",
    "6. Create 2 equally populated *age categories* and calculate survival proportions by *age category*, *travel class* and *sex*. Present your results in a `DataFrame` with unique index."
   ]
  },
  {
   "cell_type": "code",
   "execution_count": null,
   "metadata": {
    "collapsed": true
   },
   "outputs": [],
   "source": [
    "# Write your answer here\n",
    "''' (UNITS ??)\n",
    "pclass- an integer from 1 to 3 indicating what class the passengers rode in\n",
    "survived- a double value equal to 1 if survived, 0 if dead\n",
    "name- a string of characters representing name of passenger, 26 uppercase, 26 lowercase, space, commas, apostrophes\n",
    "sex- an integer ? Takes value female or male\n",
    "age- a double value >= 0 representing age in years, can have decimals (age=0.917)\n",
    "sibsp- The number of siblings/spouses aboard, stored as a double, >=0\n",
    "parch- Number of parents/children aboard, stored as double >=0\n",
    "ticket- Number on ticket, character as it can include letters (like PC ...)\n",
    "fare-The amount paid by the passenger in GBP back then, double >=0\n",
    "cabin-int ??? The cabin number (actually entered as chars)\n",
    "embarked-the city the passenger embarked the ship, can be Cherbourg, Queenstown, Southampton\n",
    "boat- the emergency boat they got off on ??? \n",
    "body- identification number for the body\n",
    "home.dest- home and destination\n",
    "\n",
    "Categorical- can only take a finite set of values such as gender, social class, etc.\n",
    "'''"
   ]
  }
 ],
 "metadata": {
  "kernelspec": {
   "display_name": "Python 3",
   "language": "python",
   "name": "python3"
  },
  "language_info": {
   "codemirror_mode": {
    "name": "ipython",
    "version": 3
   },
   "file_extension": ".py",
   "mimetype": "text/x-python",
   "name": "python",
   "nbconvert_exporter": "python",
   "pygments_lexer": "ipython3",
   "version": "3.6.1"
  }
 },
 "nbformat": 4,
 "nbformat_minor": 2
}
