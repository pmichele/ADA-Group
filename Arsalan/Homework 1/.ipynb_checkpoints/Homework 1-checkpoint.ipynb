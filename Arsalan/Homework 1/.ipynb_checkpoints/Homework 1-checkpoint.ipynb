{
 "cells": [
  {
   "cell_type": "markdown",
   "metadata": {},
   "source": [
    "# Table of Contents\n",
    " <p><div class=\"lev1\"><a href=\"#Task-1.-Compiling-Ebola-Data\"><span class=\"toc-item-num\">Task 1.&nbsp;&nbsp;</span>Compiling Ebola Data</a></div>\n",
    " <div class=\"lev1\"><a href=\"#Task-2.-RNA-Sequences\"><span class=\"toc-item-num\">Task 2.&nbsp;&nbsp;</span>RNA Sequences</a></div>\n",
    " <div class=\"lev1\"><a href=\"#Task-3.-Class-War-in-Titanic\"><span class=\"toc-item-num\">Task 3.&nbsp;&nbsp;</span>Class War in Titanic</a></div></p>"
   ]
  },
  {
   "cell_type": "code",
   "execution_count": 2,
   "metadata": {
    "collapsed": true
   },
   "outputs": [],
   "source": [
    "DATA_FOLDER = 'Data/' # Use the data folder provided in Tutorial 02 - Intro to Pandas."
   ]
  },
  {
   "cell_type": "markdown",
   "metadata": {},
   "source": [
    "## Task 1. Compiling Ebola Data\n",
    "\n",
    "The `DATA_FOLDER/ebola` folder contains summarized reports of Ebola cases from three countries (Guinea, Liberia and Sierra Leone) during the recent outbreak of the disease in West Africa. For each country, there are daily reports that contain various information about the outbreak in several cities in each country.\n",
    "\n",
    "Use pandas to import these data files into a single `Dataframe`.\n",
    "Using this `DataFrame`, calculate for *each country*, the *daily average per month* of *new cases* and *deaths*.\n",
    "Make sure you handle all the different expressions for *new cases* and *deaths* that are used in the reports."
   ]
  },
  {
   "cell_type": "code",
   "execution_count": 50,
   "metadata": {},
   "outputs": [
    {
     "name": "stdout",
     "output_type": "stream",
     "text": [
      "['population' 'new_noncase' 'new_suspected' 'new_probable' 'new_confirmed'\n",
      " 'cum_noncase' 'cum_suspected' 'cum_probable' 'cum_confirmed'\n",
      " 'death_suspected' 'death_probable' 'death_confirmed' 'cfr'\n",
      " 'etc_new_admission' 'etc_currently_admitted' 'etc_cum_admission'\n",
      " 'etc_new_deaths' 'etc_cum_deaths' 'etc_new_discharges'\n",
      " 'etc_cum_discharges' 'cum_contacts' 'cum_completed_contacts'\n",
      " 'contacts_followed' 'new_contacts' 'contacts_healthy' 'contacts_ill'\n",
      " 'contacts_not_seen' 'new_completed_contacts' 'percent_seen'\n",
      " 'total_lab_samples' 'repeat_samples' 'new_samples' 'new_positive'\n",
      " 'new_negative' 'pending' 'positive_corpse' 'negative_corpse']\n"
     ]
    }
   ],
   "source": [
    "import glob\n",
    "import datetime as dt\n",
    "import pandas as pd\n",
    "\n",
    "def readFiles(path,name):\n",
    "    df=pd.DataFrame()\n",
    "    allFiles=glob.glob(DATA_FOLDER+path)\n",
    "    for file in allFiles:\n",
    "        df=df.append(pd.read_csv(file))\n",
    "    df['Country']=name\n",
    "    return df\n",
    "\n",
    "\n",
    "def readAll():\n",
    "    df=pd.DataFrame()\n",
    "    df=df.append(readFiles('ebola/guinea_data/*','guinea'))\n",
    "    df=df.append(readFiles('ebola/liberia_data/*','liberia'))\n",
    "    df=df.append(readFiles('ebola/sl_data/*','sl'))\n",
    "    return df\n",
    "\n",
    "def mergeColumns(df):\n",
    "    df['Date']=df['Date'].fillna(df['date'])\n",
    "    df['Description']=df['Description'].fillna(df['Variable'])\n",
    "    df['Description']=df['Description'].fillna(df['variable'])\n",
    "    df['Totals']=df['Totals'].fillna(df['National'])\n",
    "    df['Police training School']=df['Police training School'].fillna(df['Police traning School'])\n",
    "    return df\n",
    "\n",
    "def dropColumns(df):\n",
    "    df=df.drop('date', axis=1)\n",
    "    df=df.drop('Variable', axis=1)\n",
    "    df=df.drop('variable', axis=1)\n",
    "    df=df.drop('National', axis=1)\n",
    "    df=df.drop('Police traning School',axis=1)\n",
    "    return df\n",
    "    \n",
    "    \n",
    "def stripDate(date):\n",
    "    if ('/' in date):\n",
    "        try :\n",
    "            return dt.datetime.strptime(date, \"%m/%d/%Y\").month\n",
    "        except ValueError:\n",
    "            return dt.datetime.strptime(date, \"%m/%d/%y\").month\n",
    "    return dt.datetime.strptime(date, \"%Y-%m-%d\").month\n",
    "\n",
    "def changeDate(df):\n",
    "    df['Date'] = df['Date'].map(stripDate)\n",
    "    return df\n",
    "    \n",
    "def preprocess(df):\n",
    "    df=mergeColumns(df)\n",
    "    df=dropColumns(df)\n",
    "    df=changeDate(df)\n",
    "    df=df.fillna(value=0)\n",
    "    return df\n",
    "\n",
    "def calc(dframe,descr,country):\n",
    "    subset=dframe[(dframe['Country']==country)&(dframe['Description']==descr)][['Totals','Date']]\n",
    "    subset = subset.astype(float)   \n",
    "    subsetMean = subset.groupby(['Date'])['Totals'].mean()\n",
    "    return subsetMean\n",
    "\n",
    "def calc2(dframe,descr1,descr2,country):\n",
    "    subset=dframe[(dframe['Country']==country)&((df['Description']==descr1)|(df['Description']==descr2))][['Totals','Date']]\n",
    "    subset = subset.astype(float)   \n",
    "    subsetMean = subset.groupby(['Date'])['Totals'].mean()\n",
    "    return subsetMean\n",
    "\n",
    "def printResults():\n",
    "    #Guinea\n",
    "    print(calc(df,'Total new cases registered so far','guinea'))\n",
    "    print('\\n')\n",
    "    print(calc2(df,'New deaths registered','New deaths registered today','guinea'))\n",
    "    print('\\n')\n",
    "    #Liberia\n",
    "    print(calc(df,'Newly Reported Cases in HCW','liberia'))\n",
    "    print('\\n')\n",
    "    print(calc2(df,'Newly reported deaths','Newly Reported deaths in HCW','liberia'))\n",
    "    print('\\n')\n",
    "    #SL\n",
    "    print(calc(df,'new_confirmed','sl'))\n",
    "    print('\\n')\n",
    "    print(calc(df,'etc_new_deaths','sl'))\n",
    "    \n",
    "\n",
    "'''\n",
    "Using this DataFrame, calculate for each country, \n",
    "the daily average per month of new cases and deaths. \n",
    "Make sure you handle all the different expressions for \n",
    "new cases and deaths that are used in the reports.\n",
    "\n",
    "calc mean over each month (8,9,10,...)\n",
    "'''\n",
    "\n",
    "df=readAll()\n",
    "df=preprocess(df)\n",
    "printResults()\n",
    "\n",
    "\n",
    "#how can average be 0 ????\n",
    "#print(df[df['Country']=='sl']['Description'].unique())\n"
   ]
  },
  {
   "cell_type": "markdown",
   "metadata": {},
   "source": [
    "## Task 2. RNA Sequences\n",
    "\n",
    "In the `DATA_FOLDER/microbiome` subdirectory, there are 9 spreadsheets of microbiome data that was acquired from high-throughput RNA sequencing procedures, along with a 10<sup>th</sup> file that describes the content of each. \n",
    "\n",
    "Use pandas to import the first 9 spreadsheets into a single `DataFrame`.\n",
    "Then, add the metadata information from the 10<sup>th</sup> spreadsheet as columns in the combined `DataFrame`.\n",
    "Make sure that the final `DataFrame` has a unique index and all the `NaN` values have been replaced by the tag `unknown`."
   ]
  },
  {
   "cell_type": "code",
   "execution_count": 161,
   "metadata": {
    "collapsed": true
   },
   "outputs": [],
   "source": [
    "# Write your answer here\n",
    "import glob\n",
    "import pandas as pd\n",
    "\n",
    "def readData(path):\n",
    "    df=pd.DataFrame()    \n",
    "    allFiles=glob.glob(DATA_FOLDER+path)\n",
    "    meta=readMeta()\n",
    "    i=0\n",
    "    for file in allFiles:\n",
    "         if(not file==\"Data/microbiome\\metadata.xls\"):    \n",
    "            thisFile=pd.read_excel(file,header=None)\n",
    "            thisFile['BARCODE']=meta['BARCODE'][i]\n",
    "            thisFile['GROUP']=meta['GROUP'][i]\n",
    "            thisFile['SAMPLE']=meta['SAMPLE'][i]\n",
    "            i=i+1\n",
    "            df = df.append(thisFile)\n",
    "    return df\n",
    "\n",
    "def readMeta():\n",
    "    return pd.read_excel(\"Data/microbiome\\metadata.xls\")\n",
    "\n",
    "def fillMissing(df):\n",
    "    return df.fillna(value=\"unknown\")\n",
    "    \n",
    "def readAll():\n",
    "    df=readData('microbiome/*')\n",
    "    return fillMissing(df) \n",
    "\n",
    "df=readAll()\n"
   ]
  },
  {
   "cell_type": "markdown",
   "metadata": {},
   "source": [
    "## Task 3. Class War in Titanic\n",
    "\n",
    "Use pandas to import the data file `Data/titanic.xls`. It contains data on all the passengers that travelled on the Titanic."
   ]
  },
  {
   "cell_type": "code",
   "execution_count": 331,
   "metadata": {},
   "outputs": [],
   "source": [
    "from IPython.core.display import HTML\n",
    "import matplotlib.pyplot as plt\n",
    "HTML(filename=DATA_FOLDER+'/titanic.html')\n",
    "d=pd.read_excel(DATA_FOLDER+'/titanic.xls',header=0)"
   ]
  },
  {
   "cell_type": "markdown",
   "metadata": {},
   "source": [
    "For each of the following questions state clearly your assumptions and discuss your findings:\n",
    "1. Describe the *type* and the *value range* of each attribute. Indicate and transform the attributes that can be `Categorical`. \n",
    "2. Plot histograms for the *travel class*, *embarkation port*, *sex* and *age* attributes. For the latter one, use *discrete decade intervals*. \n",
    "3. Calculate the proportion of passengers by *cabin floor*. Present your results in a *pie chart*.\n",
    "4. For each *travel class*, calculate the proportion of the passengers that survived. Present your results in *pie charts*.\n",
    "5. Calculate the proportion of the passengers that survived by *travel class* and *sex*. Present your results in *a single histogram*.\n",
    "6. Create 2 equally populated *age categories* and calculate survival proportions by *age category*, *travel class* and *sex*. Present your results in a `DataFrame` with unique index."
   ]
  },
  {
   "cell_type": "code",
   "execution_count": 354,
   "metadata": {},
   "outputs": [
    {
     "data": {
      "image/png": "[encoded data removed]",
      "text/plain": [
       "<matplotlib.figure.Figure at 0x24f64b6c198>"
      ]
     },
     "metadata": {},
     "output_type": "display_data"
    },
    {
     "data": {
      "image/png": "[encoded data removed]",
      "text/plain": [
       "<matplotlib.figure.Figure at 0x24f64d24f98>"
      ]
     },
     "metadata": {},
     "output_type": "display_data"
    }
   ],
   "source": [
    "# Write your answer here\n",
    "''' (UNITS ??)\n",
    "pclass- an integer from 1 to 3 indicating what class the passengers rode in\n",
    "survived- a double value equal to 1 if survived, 0 if dead\n",
    "name- a string of characters representing name of passenger, 26 uppercase, 26 lowercase, space, commas, apostrophes\n",
    "sex- an integer ? Takes value female or male\n",
    "age- a double value >= 0 representing age in years, can have decimals (age=0.917)\n",
    "sibsp- The number of siblings/spouses aboard, stored as a double, >=0\n",
    "parch- Number of parents/children aboard, stored as double >=0\n",
    "ticket- Number on ticket, character as it can include letters (like PC ...)\n",
    "fare-The amount paid by the passenger in GBP back then, double >=0\n",
    "cabin-int ??? The cabin number (actually entered as chars)\n",
    "embarked-the city the passenger embarked the ship, can be Cherbourg, Queenstown, Southampton\n",
    "boat- the emergency boat they got off on ??? \n",
    "body- identification number for the body\n",
    "home.dest- home and destination\n",
    "\n",
    "Categorical- can only take a finite set of values such as gender, social class, etc.\n",
    "'''\n",
    "\n",
    "\n",
    "def printHistograms():      \n",
    "    travelClass=d['pclass'].value_counts()\n",
    "    travelClassData = {'1st class':travelClass[1], '2nd class':travelClass[2], '3rd class':travelClass[3]}\n",
    "    printHist(travelClassData,'Passenger Classes')\n",
    "\n",
    "    embarked=d['embarked'].value_counts()\n",
    "    embarkedData = {'Southampton':embarked[0], 'Cherbourg': embarked[1], 'Queenstown': embarked[2]}\n",
    "    printHist(embarkedData,'Embark location')\n",
    "\n",
    "    sex=d['sex'].value_counts()\n",
    "    sexData = {'Male':sex.iloc[0], 'Female': sex.iloc[1]}\n",
    "    printHist(sexData,'Sex distribution')\n",
    "\n",
    "    #have to include NAN values as seperate category\n",
    "    #0-10,11-20,21-30,31-40,41-50 and NAN\n",
    "    age=pd.cut(d['age'].fillna(value=-1),[-10,0,10,20,30,40,50]).value_counts()\n",
    "    ageData = {'0 to 10':age.iloc[5], '10 to 20':age.iloc[3], '20 to 30':age.iloc[0],'30 to 40':age.iloc[2],'40 to 50':age.iloc[4],'Unknown':age.iloc[1]}\n",
    "    printHist(ageData,'Passenger Ages') \n",
    "    \n",
    "def printHist(data,xlabel):\n",
    "    plt.bar(range(len(data)), data.values(), align='center')\n",
    "    plt.xticks(range(len(data)),data.keys())\n",
    "    plt.ylabel('Number of people')\n",
    "    plt.xlabel(xlabel)\n",
    "    plt.show()\n",
    "\n",
    "#printHistograms()\n",
    "\n",
    "#Calculate the proportion of passengers by cabin floor. Present your results in a pie chart.\n",
    "#Assuming that each letter represents the cabin floor (A,B,C,D,...)\n",
    "cabin=d['cabin'].str[0].value_counts()\n",
    "#cabin=cabin.fillna(value='N')\n",
    "\n",
    "labels =cabin.keys()\n",
    "values=cabin\n",
    "\n",
    "_,ax1 = plt.subplots()\n",
    "ax1.pie(values, labels=labels, autopct='%1.1f%%',=True, startangle=90)\n",
    "ax1.axis('equal')  # Equal aspect ratio ensures that pie is drawn as a circle.\n",
    "\n",
    "plt.show()"
   ]
  },
  {
   "cell_type": "code",
   "execution_count": null,
   "metadata": {
    "collapsed": true
   },
   "outputs": [],
   "source": []
  }
 ],
 "metadata": {
  "kernelspec": {
   "display_name": "Python 3",
   "language": "python",
   "name": "python3"
  },
  "language_info": {
   "codemirror_mode": {
    "name": "ipython",
    "version": 3
   },
   "file_extension": ".py",
   "mimetype": "text/x-python",
   "name": "python",
   "nbconvert_exporter": "python",
   "pygments_lexer": "ipython3",
   "version": "3.6.1"
  }
 },
 "nbformat": 4,
 "nbformat_minor": 2
}
