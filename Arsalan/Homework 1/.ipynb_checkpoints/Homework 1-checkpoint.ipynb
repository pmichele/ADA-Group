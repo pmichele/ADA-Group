{
 "cells": [
  {
   "cell_type": "markdown",
   "metadata": {},
   "source": [
    "# Table of Contents\n",
    " <p><div class=\"lev1\"><a href=\"#Task-1.-Compiling-Ebola-Data\"><span class=\"toc-item-num\">Task 1.&nbsp;&nbsp;</span>Compiling Ebola Data</a></div>\n",
    " <div class=\"lev1\"><a href=\"#Task-2.-RNA-Sequences\"><span class=\"toc-item-num\">Task 2.&nbsp;&nbsp;</span>RNA Sequences</a></div>\n",
    " <div class=\"lev1\"><a href=\"#Task-3.-Class-War-in-Titanic\"><span class=\"toc-item-num\">Task 3.&nbsp;&nbsp;</span>Class War in Titanic</a></div></p>"
   ]
  },
  {
   "cell_type": "code",
   "execution_count": 1,
   "metadata": {
    "collapsed": true
   },
   "outputs": [],
   "source": [
    "DATA_FOLDER = 'Data/' # Use the data folder provided in Tutorial 02 - Intro to Pandas."
   ]
  },
  {
   "cell_type": "markdown",
   "metadata": {},
   "source": [
    "## Task 1. Compiling Ebola Data\n",
    "\n",
    "The `DATA_FOLDER/ebola` folder contains summarized reports of Ebola cases from three countries (Guinea, Liberia and Sierra Leone) during the recent outbreak of the disease in West Africa. For each country, there are daily reports that contain various information about the outbreak in several cities in each country.\n",
    "\n",
    "Use pandas to import these data files into a single `Dataframe`.\n",
    "Using this `DataFrame`, calculate for *each country*, the *daily average per month* of *new cases* and *deaths*.\n",
    "Make sure you handle all the different expressions for *new cases* and *deaths* that are used in the reports."
   ]
  },
  {
   "cell_type": "code",
   "execution_count": 211,
   "metadata": {
    "scrolled": true
   },
   "outputs": [
    {
     "ename": "SyntaxError",
     "evalue": "EOL while scanning string literal (<ipython-input-211-11bb352a8350>, line 58)",
     "output_type": "error",
     "traceback": [
      "\u001b[1;36m  File \u001b[1;32m\"<ipython-input-211-11bb352a8350>\"\u001b[1;36m, line \u001b[1;32m58\u001b[0m\n\u001b[1;33m    'have to do rename on total frame\u001b[0m\n\u001b[1;37m                                     ^\u001b[0m\n\u001b[1;31mSyntaxError\u001b[0m\u001b[1;31m:\u001b[0m EOL while scanning string literal\n"
     ]
    }
   ],
   "source": [
    "'''\n",
    "# Write your answer here\n",
    "the ebola folder contains subfolders for each country, for each country there are a bunch of \n",
    ".csv files for each date, need to combine all of these into 1 single dataframe\n",
    "'''\n",
    "\n",
    "'Explanation:'\n",
    "'''Instead of importing all the files into a single dataframe, we will import one at a time\n",
    "compute the necessary values and add those to a datastructure. We have to pay attention to the fact\n",
    "that we are finding averages over each month'''\n",
    "\n",
    "'''\n",
    "def readFolder(path): \n",
    "    allFiles=glob.glob(path) \n",
    "    frame=pd.DataFrame()\n",
    "    l=[] \n",
    "    for file in allFiles: \n",
    "        df=pd.read_csv(file) \n",
    "        l.append(df) \n",
    "        frame=pd.concat(l) \n",
    "        return frame \n",
    "    \n",
    "guinea = readFolder(DATA_FOLDER+'/ebola/guinea_data/*.csv') \n",
    "guinea=guinea.fillna(value=0) print(guinea.head()) \n",
    "liberia = readFolder(DATA_FOLDER+'/ebola/liberia_data/*.csv') \n",
    "sl = readFolder(DATA_FOLDER+'/ebola/sl_data/*.csv') \n",
    "allCities=[guinea,liberia,sl] df = pd.DataFrame() \n",
    "df=pd.concat(allCities) \n",
    "print(df)'''\n",
    "\n",
    "\n",
    "\n",
    "'''\n",
    "test = pd.read_csv(DATA_FOLDER+'ebola/guinea_data/2014-08-04.csv')\n",
    "print(test[3:4]['Totals'])\n",
    "print(test[15:16]['Totals'])\n",
    "'''\n",
    "\n",
    "'''\n",
    "\n",
    "'''\n",
    "\n",
    "\n",
    "'''need to preprocess the data, maybe instead of date just use month since we're dealing with monthly values'''\n",
    "\n",
    "\n",
    "'''a[a['Description']=='Total new cases registered so far']'''\n",
    "'''a=total[['Description','Variable','Totals','Date','Country']]\n",
    "\n",
    "'''\n",
    "\n",
    "\n",
    "'fixing column names, for example training school spelling mistake in SL'\n",
    "'date formats are messed uo'\n",
    "'''\n",
    "print(guinea.columns)\n",
    "print(liberia.columns)\n",
    "print(sl.columns)\n",
    "'''\n",
    "'''\n",
    "print(guinea['Date'].head())\n",
    "\n",
    "print(liberia['Date'].head())\n",
    "'''\n",
    "'''\n",
    "print(guinea.columns)\n",
    "print(liberia.columns)\n",
    "print(sl.columns)\n",
    "'''\n",
    "'''make sum column at the end, check for errors'''\n",
    "\n",
    "'''stri=guinea['Date'][0:1].values[0]\n",
    "dt = datetime.strptime(stri, '%Y-%m-%d')\n",
    "file['Date'].values[0]=str(dt.month)'''\n",
    "'''\n",
    "for row in guinea:\n",
    "    print(row)\n",
    "'''\n",
    "\n",
    "'''guinea['Date']=1'''\n",
    "#'print(guinea['Date'].values)''''''\n",
    "'''\n",
    "print(guinea.columns)\n",
    "print(liberia.columns)\n",
    "print(sl.columns)\n",
    "'''\n",
    "\n",
    "\n",
    "'''liberia.rename(columns={'Variable': 'Description','National':'Totals'}, inplace=True)\n",
    "sl.rename(columns={'variable': 'Description','National':'Totals','date':'Date'}, inplace=True)\n",
    "'''\n",
    "'''\n",
    "def changeDate(file):\n",
    "    for row in file:        \n",
    "  \n",
    "'''\n",
    "\n",
    "'have to do rename on total frame'\n",
    "#Guinea\n",
    "#Total new cases registered so far\n",
    "\n",
    "#Liberia\n",
    "#New Case/s (Suspected)\n",
    "#New Case/s (Probable)\n",
    "#New case/s (confirmed)\n",
    "\n",
    "#SL\n",
    "#new_confirmed\n",
    "\n",
    "\n",
    "\n",
    "#total[(total['Country']=='guinea')&(total['Description']=='New deaths registered')][['Description','Country','Date','Totals']]\n",
    "                    \n",
    "#grouped = total.groupby(['Date','Description','Country']).mean()\n",
    "#print(grouped)\n",
    "\n",
    "#not all date have same format DD/MM/YYYY\n",
    "#total['Date'] = total['Date'].apply(lambda x:if dateIsValid(print(datetime.strptime(x, '%Y-%m-%d').month))\n",
    "#total['Date'] = total['Date'].apply(getMonth)\n",
    "#western area combined = western are rural + urban ??"
   ]
  },
  {
   "cell_type": "code",
   "execution_count": 387,
   "metadata": {},
   "outputs": [
    {
     "name": "stdout",
     "output_type": "stream",
     "text": [
      "Daily average new cases per month\n",
      "Date\n",
      "8.0     25.800\n",
      "9.0     19.625\n",
      "10.0    34.000\n",
      "Name: Totals, dtype: float64\n",
      "\n",
      "\n",
      "Daily average new deaths per month\n",
      "Date\n",
      "8.0      3.4000\n",
      "9.0      3.5625\n",
      "10.0    15.0000\n",
      "Name: Totals, dtype: float64\n"
     ]
    }
   ],
   "source": [
    "import glob\n",
    "import datetime as dt\n",
    "import pandas as pd\n",
    "\n",
    "def readFiles(path,name):\n",
    "    df=pd.DataFrame()\n",
    "    allFiles=glob.glob(DATA_FOLDER+path)\n",
    "    for file in allFiles:\n",
    "        df=df.append(pd.read_csv(file))\n",
    "    df['Country']=name\n",
    "    return df\n",
    "\n",
    "\n",
    "def readAll():\n",
    "    df=pd.DataFrame()\n",
    "    df=df.append(readFiles('ebola/guinea_data/*','guinea'))\n",
    "    df=df.append(readFiles('ebola/liberia_data/*','liberia'))\n",
    "    df=df.append(readFiles('ebola/sl_data/*','sl'))\n",
    "    return df\n",
    "\n",
    "def mergeColumns(df):\n",
    "    df['Date']=df['Date'].fillna(df['date'])\n",
    "    df['Description']=df['Description'].fillna(df['Variable'])\n",
    "    df['Description']=df['Description'].fillna(df['variable'])\n",
    "    df['Totals']=df['Totals'].fillna(df['National'])\n",
    "    df['Police training School']=df['Police training School'].fillna(df['Police traning School'])\n",
    "    return df\n",
    "\n",
    "def dropColumns(df):\n",
    "    df=df.drop('date', axis=1)\n",
    "    df=df.drop('Variable', axis=1)\n",
    "    df=df.drop('variable', axis=1)\n",
    "    df=df.drop('National', axis=1)\n",
    "    df=df.drop('Police traning School',axis=1)\n",
    "    return df\n",
    "    \n",
    "    \n",
    "def stripDate(date):\n",
    "    if ('/' in date):\n",
    "        try :\n",
    "            return dt.datetime.strptime(date, \"%m/%d/%Y\").month\n",
    "        except ValueError:\n",
    "            return dt.datetime.strptime(date, \"%m/%d/%y\").month\n",
    "    return dt.datetime.strptime(date, \"%Y-%m-%d\").month\n",
    "\n",
    "def changeDate(df):\n",
    "    df['Date'] = df['Date'].map(stripDate)\n",
    "    return df\n",
    "    \n",
    "def preprocess(df):\n",
    "    df=mergeColumns(df)\n",
    "    df=dropColumns(df)\n",
    "    df=changeDate(df)\n",
    "    df=df.fillna(value=0)\n",
    "    return df\n",
    "\n",
    "'''\n",
    "Using this DataFrame, calculate for each country, \n",
    "the daily average per month of new cases and deaths. \n",
    "Make sure you handle all the different expressions for \n",
    "new cases and deaths that are used in the reports.\n",
    "\n",
    "calc mean over each month (8,9,10,...)\n",
    "'''\n",
    "\n",
    "df=readAll()\n",
    "df=preprocess(df)\n",
    "\n",
    "\n",
    "#Calculate for guinea\n",
    "strNewCases='Total new cases registered so far'\n",
    "guinea=df[(df['Country']=='guinea')&(df['Description']==strNewCases)][['Totals','Date']]\n",
    "guinea = guinea.astype(float)   \n",
    "guineaNewCaseMean = guinea.groupby(['Date'])['Totals'].mean()\n",
    "\n",
    "\n",
    "strNewDeaths='New deaths registered'\n",
    "strNewDeaths2='New deaths registered today'\n",
    "\n",
    "guinea=df[(df['Country']=='guinea')&((df['Description']==strNewDeaths)|(df['Description']==strNewDeaths2))][['Totals','Date']]\n",
    "guinea = guinea.astype(float)   \n",
    "guineaNewDeathMean = guinea.groupby(['Date'])['Totals'].mean()\n",
    "\n",
    "print('Daily average new cases per month')\n",
    "print(guineaNewCaseMean)\n",
    "print('\\n')\n",
    "print('Daily average new deaths per month')\n",
    "print(guineaNewDeathMean)\n",
    "\n",
    "\n",
    "#guinea=df[(df['Country']=='guinea')]\n",
    "#print(guinea['Description'].unique())"
   ]
  },
  {
   "cell_type": "markdown",
   "metadata": {},
   "source": [
    "## Task 2. RNA Sequences\n",
    "\n",
    "In the `DATA_FOLDER/microbiome` subdirectory, there are 9 spreadsheets of microbiome data that was acquired from high-throughput RNA sequencing procedures, along with a 10<sup>th</sup> file that describes the content of each. \n",
    "\n",
    "Use pandas to import the first 9 spreadsheets into a single `DataFrame`.\n",
    "Then, add the metadata information from the 10<sup>th</sup> spreadsheet as columns in the combined `DataFrame`.\n",
    "Make sure that the final `DataFrame` has a unique index and all the `NaN` values have been replaced by the tag `unknown`."
   ]
  },
  {
   "cell_type": "code",
   "execution_count": null,
   "metadata": {
    "collapsed": true
   },
   "outputs": [],
   "source": [
    "# Write your answer here"
   ]
  },
  {
   "cell_type": "markdown",
   "metadata": {},
   "source": [
    "## Task 3. Class War in Titanic\n",
    "\n",
    "Use pandas to import the data file `Data/titanic.xls`. It contains data on all the passengers that travelled on the Titanic."
   ]
  },
  {
   "cell_type": "code",
   "execution_count": null,
   "metadata": {
    "collapsed": true
   },
   "outputs": [],
   "source": [
    "from IPython.core.display import HTML\n",
    "HTML(filename=DATA_FOLDER+'/titanic.html')"
   ]
  },
  {
   "cell_type": "markdown",
   "metadata": {},
   "source": [
    "For each of the following questions state clearly your assumptions and discuss your findings:\n",
    "1. Describe the *type* and the *value range* of each attribute. Indicate and transform the attributes that can be `Categorical`. \n",
    "2. Plot histograms for the *travel class*, *embarkation port*, *sex* and *age* attributes. For the latter one, use *discrete decade intervals*. \n",
    "3. Calculate the proportion of passengers by *cabin floor*. Present your results in a *pie chart*.\n",
    "4. For each *travel class*, calculate the proportion of the passengers that survived. Present your results in *pie charts*.\n",
    "5. Calculate the proportion of the passengers that survived by *travel class* and *sex*. Present your results in *a single histogram*.\n",
    "6. Create 2 equally populated *age categories* and calculate survival proportions by *age category*, *travel class* and *sex*. Present your results in a `DataFrame` with unique index."
   ]
  },
  {
   "cell_type": "code",
   "execution_count": null,
   "metadata": {
    "collapsed": true
   },
   "outputs": [],
   "source": [
    "# Write your answer here"
   ]
  }
 ],
 "metadata": {
  "kernelspec": {
   "display_name": "Python 3",
   "language": "python",
   "name": "python3"
  },
  "language_info": {
   "codemirror_mode": {
    "name": "ipython",
    "version": 3
   },
   "file_extension": ".py",
   "mimetype": "text/x-python",
   "name": "python",
   "nbconvert_exporter": "python",
   "pygments_lexer": "ipython3",
   "version": "3.6.1"
  }
 },
 "nbformat": 4,
 "nbformat_minor": 2
}
