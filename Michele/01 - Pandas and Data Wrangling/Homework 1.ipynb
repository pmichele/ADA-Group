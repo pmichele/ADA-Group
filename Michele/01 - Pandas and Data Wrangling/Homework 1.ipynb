{
 "cells": [
  {
   "cell_type": "markdown",
   "metadata": {},
   "source": [
    "# Table of Contents\n",
    " <p><div class=\"lev1\"><a href=\"#Task-1.-Compiling-Ebola-Data\"><span class=\"toc-item-num\">Task 1.&nbsp;&nbsp;</span>Compiling Ebola Data</a></div>\n",
    " <div class=\"lev1\"><a href=\"#Task-2.-RNA-Sequences\"><span class=\"toc-item-num\">Task 2.&nbsp;&nbsp;</span>RNA Sequences</a></div>\n",
    " <div class=\"lev1\"><a href=\"#Task-3.-Class-War-in-Titanic\"><span class=\"toc-item-num\">Task 3.&nbsp;&nbsp;</span>Class War in Titanic</a></div></p>"
   ]
  },
  {
   "cell_type": "code",
   "execution_count": 2,
   "metadata": {
    "collapsed": true
   },
   "outputs": [],
   "source": [
    "DATA_FOLDER = 'Data/ebola' # Use the data folder provided in Tutorial 02 - Intro to Pandas."
   ]
  },
  {
   "cell_type": "markdown",
   "metadata": {},
   "source": [
    "## Task 1. Compiling Ebola Data\n",
    "\n",
    "The `DATA_FOLDER/ebola` folder contains summarized reports of Ebola cases from three countries (Guinea, Liberia and Sierra Leone) during the recent outbreak of the disease in West Africa. For each country, there are daily reports that contain various information about the outbreak in several cities in each country.\n",
    "\n",
    "Use pandas to import these data files into a single `Dataframe`.\n",
    "Using this `DataFrame`, calculate for *each country*, the *daily average per month* of *new cases* and *deaths*.\n",
    "Make sure you handle all the different expressions for *new cases* and *deaths* that are used in the reports."
   ]
  },
  {
   "cell_type": "code",
   "execution_count": 60,
   "metadata": {},
   "outputs": [
    {
     "name": "stdout",
     "output_type": "stream",
     "text": [
      "1. Guinea\n",
      "Date\n",
      "8.0      3.4000\n",
      "9.0      3.5625\n",
      "10.0    15.0000\n",
      "Name: Totals, dtype: float64 \n",
      "\n",
      "2. Liberia\n",
      "Date\n",
      "6.0      2.000000\n",
      "7.0      4.272727\n",
      "8.0     23.222222\n",
      "9.0     36.041667\n",
      "10.0    28.040000\n",
      "11.0    13.466667\n",
      "12.0     0.000000\n",
      "Name: Totals, dtype: float64 \n",
      "\n",
      "3. Sierra Leone\n"
     ]
    },
    {
     "data": {
      "text/plain": [
       "'sl = df[df[\\'Country\\'] == \"sl_data\"]\\nslDates = sl[sl[\\'Description\\'] == \"etc_new_deaths\"][[\\'Date\\']]\\nslTots = sl[sl[\\'Description\\'] == \"etc_new_deaths\"]\\nslTots[\\'Date\\'] = 0\\nslTots[\\'Description\\'] = 0\\nslTots[\\'Totals\\'] = 0\\nslTots = slTots.astype(float)\\nslTots = slTots.sum(axis=1)\\nslTots.join(slDates)\\nslMeans = slTots.groupby([\\'Date\\'])[\\'Totals\\'].mean()'"
      ]
     },
     "execution_count": 60,
     "metadata": {},
     "output_type": "execute_result"
    }
   ],
   "source": [
    "import pandas as pd\n",
    "import glob as glob\n",
    "import datetime as dt\n",
    "\n",
    "def read_country(country):\n",
    "    files = glob.glob(DATA_FOLDER + \"/\" + country + \"/*.csv\")\n",
    "    df = pd.concat((pd.read_csv(file) for file in files))\n",
    "    df['Country'] = country\n",
    "    return df.fillna(0)\n",
    "\n",
    "def read_countries():\n",
    "    df = read_country(\"guinea_data\")\n",
    "    df = df.append(read_country(\"sl_data\"))\n",
    "    df = df.append(read_country(\"liberia_data\"))\n",
    "    return df\n",
    "\n",
    "\n",
    "def normalize(df):\n",
    "    df['Date'].fillna(df['date'], inplace=True)\n",
    "    df['Date'] = df['Date'].map(stripDate)\n",
    "    df['Description'].fillna(df['Variable'], inplace=True)\n",
    "    df['Description'].fillna(df['variable'], inplace=True)\n",
    "    df['Totals'].fillna(df['National'], inplace=True)\n",
    "    del df['date']\n",
    "    del df['Variable']\n",
    "    del df['variable']\n",
    "    del df['National']\n",
    "    \n",
    "def stripDate(date):\n",
    "    if ('/' in date):\n",
    "        try :\n",
    "            return dt.datetime.strptime(date, \"%m/%d/%Y\").month\n",
    "        except ValueError:\n",
    "            return dt.datetime.strptime(date, \"%m/%d/%y\").month\n",
    "    return dt.datetime.strptime(date, \"%Y-%m-%d\").month\n",
    "\n",
    "\n",
    "df = read_countries()\n",
    "\n",
    "# check that the sum of the columns is correct\n",
    "# What if the variables are different?\n",
    "normalize(df)\n",
    "\n",
    "\n",
    "\n",
    "print(\"1. Guinea\")\n",
    "guin = df[df['Country'] == \"guinea_data\"]\n",
    "guinTots = guin[guin['Description'] == \"New deaths registered today\"][['Totals', 'Date']]\n",
    "guinTots = guinTots.append(guin[guin['Description'] == \"New deaths registered\"][['Totals', 'Date']])\n",
    "guinTots = guinTots.astype(float)\n",
    "guinMeans = guinTots.groupby(['Date'])['Totals'].mean()\n",
    "print(guinMeans, \"\\n\")\n",
    "\n",
    "print(\"2. Liberia\")\n",
    "lib = df[df['Country'] == \"liberia_data\"]\n",
    "libTots = lib[lib['Description'] == \"Newly reported deaths\"][['Totals', 'Date']]\n",
    "libTots = libTots.astype(float)\n",
    "libMeans = libTots.groupby(['Date'])['Totals'].mean()\n",
    "print(libMeans, \"\\n\")\n",
    "\n",
    "print(\"3. Sierra Leone\")\n",
    "\"\"\"sl = df[df['Country'] == \"sl_data\"]\n",
    "slDates = sl[sl['Description'] == \"etc_new_deaths\"][['Date']]\n",
    "slTots = sl[sl['Description'] == \"etc_new_deaths\"]\n",
    "slTots['Date'] = 0\n",
    "slTots['Description'] = 0\n",
    "slTots['Totals'] = 0\n",
    "slTots = slTots.astype(float)\n",
    "slTots = slTots.sum(axis=1)\n",
    "slTots.join(slDates)\n",
    "slMeans = slTots.groupby(['Date'])['Totals'].mean()\"\"\"\n"
   ]
  },
  {
   "cell_type": "markdown",
   "metadata": {},
   "source": [
    "## Task 2. RNA Sequences\n",
    "\n",
    "In the `DATA_FOLDER/microbiome` subdirectory, there are 9 spreadsheets of microbiome data that was acquired from high-throughput RNA sequencing procedures, along with a 10<sup>th</sup> file that describes the content of each. \n",
    "\n",
    "Use pandas to import the first 9 spreadsheets into a single `DataFrame`.\n",
    "Then, add the metadata information from the 10<sup>th</sup> spreadsheet as columns in the combined `DataFrame`.\n",
    "Make sure that the final `DataFrame` has a unique index and all the `NaN` values have been replaced by the tag `unknown`."
   ]
  },
  {
   "cell_type": "code",
   "execution_count": null,
   "metadata": {
    "collapsed": true
   },
   "outputs": [],
   "source": [
    "# Write your answer here"
   ]
  },
  {
   "cell_type": "markdown",
   "metadata": {},
   "source": [
    "## Task 3. Class War in Titanic\n",
    "\n",
    "Use pandas to import the data file `Data/titanic.xls`. It contains data on all the passengers that travelled on the Titanic."
   ]
  },
  {
   "cell_type": "code",
   "execution_count": null,
   "metadata": {
    "collapsed": true
   },
   "outputs": [],
   "source": [
    "from IPython.core.display import HTML\n",
    "HTML(filename=DATA_FOLDER+'/titanic.html')"
   ]
  },
  {
   "cell_type": "markdown",
   "metadata": {},
   "source": [
    "For each of the following questions state clearly your assumptions and discuss your findings:\n",
    "1. Describe the *type* and the *value range* of each attribute. Indicate and transform the attributes that can be `Categorical`. \n",
    "2. Plot histograms for the *travel class*, *embarkation port*, *sex* and *age* attributes. For the latter one, use *discrete decade intervals*. \n",
    "3. Calculate the proportion of passengers by *cabin floor*. Present your results in a *pie chart*.\n",
    "4. For each *travel class*, calculate the proportion of the passengers that survived. Present your results in *pie charts*.\n",
    "5. Calculate the proportion of the passengers that survived by *travel class* and *sex*. Present your results in *a single histogram*.\n",
    "6. Create 2 equally populated *age categories* and calculate survival proportions by *age category*, *travel class* and *sex*. Present your results in a `DataFrame` with unique index."
   ]
  },
  {
   "cell_type": "code",
   "execution_count": null,
   "metadata": {
    "collapsed": true
   },
   "outputs": [],
   "source": [
    "# Write your answer here"
   ]
  }
 ],
 "metadata": {
  "kernelspec": {
   "display_name": "Python 3",
   "language": "python",
   "name": "python3"
  },
  "language_info": {
   "codemirror_mode": {
    "name": "ipython",
    "version": 3
   },
   "file_extension": ".py",
   "mimetype": "text/x-python",
   "name": "python",
   "nbconvert_exporter": "python",
   "pygments_lexer": "ipython3",
   "version": "3.6.1"
  }
 },
 "nbformat": 4,
 "nbformat_minor": 2
}
