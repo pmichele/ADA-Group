{
 "cells": [
  {
   "cell_type": "markdown",
   "metadata": {},
   "source": [
    "# Table of Contents\n",
    " <p><div class=\"lev1\"><a href=\"#Task-1.-Compiling-Ebola-Data\"><span class=\"toc-item-num\">Task 1.&nbsp;&nbsp;</span>Compiling Ebola Data</a></div>\n",
    " <div class=\"lev1\"><a href=\"#Task-2.-RNA-Sequences\"><span class=\"toc-item-num\">Task 2.&nbsp;&nbsp;</span>RNA Sequences</a></div>\n",
    " <div class=\"lev1\"><a href=\"#Task-3.-Class-War-in-Titanic\"><span class=\"toc-item-num\">Task 3.&nbsp;&nbsp;</span>Class War in Titanic</a></div></p>"
   ]
  },
  {
   "cell_type": "code",
   "execution_count": 41,
   "metadata": {
    "collapsed": true
   },
   "outputs": [],
   "source": [
    "DATA_FOLDER = 'Data/ebola' # Use the data folder provided in Tutorial 02 - Intro to Pandas."
   ]
  },
  {
   "cell_type": "markdown",
   "metadata": {},
   "source": [
    "## Task 1. Compiling Ebola Data\n",
    "\n",
    "The `DATA_FOLDER/ebola` folder contains summarized reports of Ebola cases from three countries (Guinea, Liberia and Sierra Leone) during the recent outbreak of the disease in West Africa. For each country, there are daily reports that contain various information about the outbreak in several cities in each country.\n",
    "\n",
    "Use pandas to import these data files into a single `Dataframe`.\n",
    "Using this `DataFrame`, calculate for *each country*, the *daily average per month* of *new cases* and *deaths*.\n",
    "Make sure you handle all the different expressions for *new cases* and *deaths* that are used in the reports."
   ]
  },
  {
   "cell_type": "code",
   "execution_count": 83,
   "metadata": {},
   "outputs": [
    {
     "name": "stdout",
     "output_type": "stream",
     "text": [
      "1. Guinea\n",
      "Average daily deaths per month\n",
      "Month\n",
      "8.0      3.4000\n",
      "9.0      3.5625\n",
      "10.0    15.0000\n",
      "Name: Totals, dtype: float64 \n",
      "\n",
      "Average daily new cases per month\n",
      "Month\n",
      "8.0     25.800\n",
      "9.0     19.625\n",
      "10.0    34.000\n",
      "Name: Totals, dtype: float64 \n",
      "\n",
      "2. Liberia\n",
      "Average daily deaths per month\n",
      "Month\n",
      "6.0      2.000000\n",
      "7.0      4.272727\n",
      "8.0     23.222222\n",
      "9.0     36.041667\n",
      "10.0    28.040000\n",
      "11.0    13.466667\n",
      "Name: Totals, dtype: float64 \n",
      "\n",
      "Average daily new cases per month\n",
      "Month\n",
      "6.0      5.714286\n",
      "7.0      8.545455\n",
      "8.0     37.222222\n",
      "9.0     63.833333\n",
      "10.0    45.560000\n",
      "11.0    26.466667\n",
      "Name: Totals, dtype: float64 \n",
      "\n",
      "3. Sierra Leone\n",
      "Average daily new cases per month\n",
      "Month\n",
      "8.0     25.150000\n",
      "9.0     40.689655\n",
      "10.0    70.928571\n",
      "11.0    75.238095\n",
      "12.0    41.000000\n",
      "Name: Totals, dtype: float64\n"
     ]
    }
   ],
   "source": [
    "import pandas as pd\n",
    "import glob as glob\n",
    "import datetime as dt\n",
    "\n",
    "def read_country(country):\n",
    "    files = glob.glob(DATA_FOLDER + \"/\" + country + \"/*.csv\")\n",
    "    df = pd.concat((pd.read_csv(file) for file in files))\n",
    "    df['Country'] = country\n",
    "    return df.fillna(0)\n",
    "\n",
    "def read_countries():\n",
    "    df = read_country(\"guinea_data\")\n",
    "    df = df.append(read_country(\"sl_data\"))\n",
    "    df = df.append(read_country(\"liberia_data\"))\n",
    "    return df\n",
    "\n",
    "\n",
    "def normalize(df):\n",
    "    df['Date'].fillna(df['date'], inplace=True)\n",
    "    df['Month'] = df['Date'].map(getMonth)\n",
    "    df['Day'] = df['Date'].map(getDay)\n",
    "    df['Description'].fillna(df['Variable'], inplace=True)\n",
    "    df['Description'].fillna(df['variable'], inplace=True)\n",
    "    df['Totals'].fillna(df['National'], inplace=True)\n",
    "    del df['Date']\n",
    "    del df['date']\n",
    "    del df['Variable']\n",
    "    del df['variable']\n",
    "    del df['National']\n",
    "    \n",
    "def getMonth(date):\n",
    "    if ('/' in date):\n",
    "        try :\n",
    "            d = dt.datetime.strptime(date, \"%m/%d/%Y\")\n",
    "        except ValueError:\n",
    "            d = dt.datetime.strptime(date, \"%m/%d/%y\")\n",
    "    else: d = dt.datetime.strptime(date, \"%Y-%m-%d\")\n",
    "    return d.month\n",
    "\n",
    "def getDay(date):\n",
    "    if ('/' in date):\n",
    "        try :\n",
    "            d = dt.datetime.strptime(date, \"%m/%d/%Y\")\n",
    "        except ValueError:\n",
    "            d = dt.datetime.strptime(date, \"%m/%d/%y\")\n",
    "    else: d = dt.datetime.strptime(date, \"%Y-%m-%d\")\n",
    "    return d.day\n",
    "\n",
    "\n",
    "def compute_means(tots):\n",
    "    tots = tots.astype(float)\n",
    "    return tots.groupby(['Month'])['Totals'].mean()\n",
    "\n",
    "def guinea_death_means(guin):\n",
    "    print(\"Average daily deaths per month\")\n",
    "    guinTots = guin[(guin['Description'] == \"New deaths registered today\")\n",
    "                   | (guin['Description'] == \"New deaths registered\")][['Totals', 'Month']]\n",
    "    return compute_means(guinTots)\n",
    "    \n",
    "def guinea_nc_means(guin):    \n",
    "    print(\"Average daily new cases per month\")\n",
    "    guinTots = guin[guin['Description'] == \"Total new cases registered so far\"][['Totals', 'Month']]\n",
    "    return compute_means(guinTots)\n",
    "\n",
    "def liberia_death_means(lib):\n",
    "    print(\"Average daily deaths per month\")\n",
    "    lib = lib[lib['Month'] < 12]\n",
    "    libTots = lib[lib['Description'] == \"Newly reported deaths\"][['Totals', 'Month']]\n",
    "    return compute_means(libTots)\n",
    "\n",
    "def liberia_nc_means(lib):   \n",
    "    print(\"Average daily new cases per month\")\n",
    "    lib = lib[lib['Month'] < 12]\n",
    "    libTots = lib[(lib['Description'] == \"New Case/s (Suspected)\")\n",
    "                 | (lib['Description'] == \"New Case/s (Probable)\")\n",
    "                 | (lib['Description'] == \"New case/s (confirmed)\")][['Totals', 'Month']]\n",
    "    return compute_means(libTots) * 3\n",
    "    \n",
    "def sl_death_means(sl):\n",
    "    return 0\n",
    "\n",
    "def sl_nc_means(sl):   \n",
    "    print(\"Average daily new cases per month\")\n",
    "    slTots = sl[(sl['Description'] == \"new_suspected\")\n",
    "                 | (sl['Description'] == \"new_probable\")\n",
    "                 | (sl['Description'] == \"new_confirmed\")][['Totals', 'Month']]\n",
    "    return compute_means(slTots) * 3\n",
    "\n",
    "\n",
    "df = read_countries()\n",
    "\n",
    "# check that the sum of the columns is correct\n",
    "# What if the variables are different?\n",
    "normalize(df)\n",
    "print(\"1. Guinea\")\n",
    "guin = df[df['Country'] == \"guinea_data\"]\n",
    "print(guinea_death_means(guin), \"\\n\")\n",
    "print(guinea_nc_means(guin), \"\\n\")\n",
    "print(\"2. Liberia\")\n",
    "lib = df[df['Country'] == \"liberia_data\"]\n",
    "print(liberia_death_means(lib), \"\\n\")\n",
    "print(liberia_nc_means(lib), \"\\n\")\n",
    "print(\"3. Sierra Leone\")\n",
    "sl = df[df['Country'] == \"sl_data\"]\n",
    "#sl_death_means(sl)\n",
    "print(sl_nc_means(sl))\n"
   ]
  },
  {
   "cell_type": "markdown",
   "metadata": {},
   "source": [
    "## Task 2. RNA Sequences\n",
    "\n",
    "In the `DATA_FOLDER/microbiome` subdirectory, there are 9 spreadsheets of microbiome data that was acquired from high-throughput RNA sequencing procedures, along with a 10<sup>th</sup> file that describes the content of each. \n",
    "\n",
    "Use pandas to import the first 9 spreadsheets into a single `DataFrame`.\n",
    "Then, add the metadata information from the 10<sup>th</sup> spreadsheet as columns in the combined `DataFrame`.\n",
    "Make sure that the final `DataFrame` has a unique index and all the `NaN` values have been replaced by the tag `unknown`."
   ]
  },
  {
   "cell_type": "code",
   "execution_count": null,
   "metadata": {
    "collapsed": true
   },
   "outputs": [],
   "source": [
    "# Write your answer here"
   ]
  },
  {
   "cell_type": "markdown",
   "metadata": {},
   "source": [
    "## Task 3. Class War in Titanic\n",
    "\n",
    "Use pandas to import the data file `Data/titanic.xls`. It contains data on all the passengers that travelled on the Titanic."
   ]
  },
  {
   "cell_type": "code",
   "execution_count": null,
   "metadata": {
    "collapsed": true
   },
   "outputs": [],
   "source": [
    "from IPython.core.display import HTML\n",
    "HTML(filename=DATA_FOLDER+'/titanic.html')"
   ]
  },
  {
   "cell_type": "markdown",
   "metadata": {},
   "source": [
    "For each of the following questions state clearly your assumptions and discuss your findings:\n",
    "1. Describe the *type* and the *value range* of each attribute. Indicate and transform the attributes that can be `Categorical`. \n",
    "2. Plot histograms for the *travel class*, *embarkation port*, *sex* and *age* attributes. For the latter one, use *discrete decade intervals*. \n",
    "3. Calculate the proportion of passengers by *cabin floor*. Present your results in a *pie chart*.\n",
    "4. For each *travel class*, calculate the proportion of the passengers that survived. Present your results in *pie charts*.\n",
    "5. Calculate the proportion of the passengers that survived by *travel class* and *sex*. Present your results in *a single histogram*.\n",
    "6. Create 2 equally populated *age categories* and calculate survival proportions by *age category*, *travel class* and *sex*. Present your results in a `DataFrame` with unique index."
   ]
  },
  {
   "cell_type": "code",
   "execution_count": null,
   "metadata": {
    "collapsed": true
   },
   "outputs": [],
   "source": [
    "# Write your answer here"
   ]
  }
 ],
 "metadata": {
  "kernelspec": {
   "display_name": "Python 3",
   "language": "python",
   "name": "python3"
  },
  "language_info": {
   "codemirror_mode": {
    "name": "ipython",
    "version": 3
   },
   "file_extension": ".py",
   "mimetype": "text/x-python",
   "name": "python",
   "nbconvert_exporter": "python",
   "pygments_lexer": "ipython3",
   "version": "3.6.1"
  }
 },
 "nbformat": 4,
 "nbformat_minor": 2
}
